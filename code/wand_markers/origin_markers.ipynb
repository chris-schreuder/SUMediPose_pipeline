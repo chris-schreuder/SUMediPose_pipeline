{
 "cells": [
  {
   "cell_type": "code",
   "execution_count": null,
   "metadata": {},
   "outputs": [],
   "source": [
    "from glob import glob\n",
    "import json\n",
    "from fastprogress import progress_bar\n",
    "\n",
    "root_path = 'path/to/data/'\n",
    "\n",
    "folders = glob(f'{root_path}frames/C*/S*/C*S*A0D*')\n",
    "\n",
    "markers_dict = {}\n",
    "for folder in progress_bar(folders):\n",
    "    files = glob(folder + '/*.jpg')\n",
    "    middle = len(files) // 2\n",
    "    frame = files[middle]\n",
    "    subject = frame.split('/')[-3]\n",
    "    camera = frame.split('/')[-4]\n",
    "    if subject not in markers_dict:\n",
    "        markers_dict[subject] = {}\n",
    "    if camera not in markers_dict[subject]:\n",
    "        markers_dict[subject][camera] = {}\n",
    "        markers_dict[subject][camera]['path'] = frame.replace(root_path, '')\n",
    "\n",
    "with open(f'{root_path}data/markers.json', 'w') as f:\n",
    "    json.dump(markers_dict, f, indent=4)"
   ]
  },
  {
   "cell_type": "code",
   "execution_count": null,
   "metadata": {},
   "outputs": [],
   "source": [
    "with open(f'{root_path}data/markers_points.json', 'r') as f:\n",
    "    markers = json.load(f)\n",
    "keys = list(markers.keys())\n",
    "subject_nums = [int(key.replace('S', '')) for key in keys if 'points' in markers[key]['C1']]\n",
    "subject_nums = sorted(subject_nums)\n",
    "map_nums = {}\n",
    "cur_num = 1\n",
    "for i in range(1,29):\n",
    "    if i in subject_nums:\n",
    "        cur_num = i\n",
    "    map_nums[f'S{i}'] = f'S{cur_num}'\n",
    "\n",
    "map_nums"
   ]
  },
  {
   "cell_type": "code",
   "execution_count": null,
   "metadata": {},
   "outputs": [],
   "source": [
    "import json\n",
    "import pandas as pd\n",
    "\n",
    "# Load data\n",
    "try:\n",
    "    with open(f'{root_path}data/stomp_refine.json', 'r') as f:\n",
    "        stomp_data = json.load(f)\n",
    "except FileNotFoundError:\n",
    "    stomp_data = {}\n",
    "\n",
    "combinations_done = list(stomp_data.keys())\n",
    "\n",
    "df = pd.read_csv(f'{root_path}data/stomps_C4.csv')\n",
    "df = df[~df['combination'].isin(combinations_done)]\n",
    "\n",
    "df['first_idx'] = pd.to_numeric(df['first_idx'], errors='coerce').astype('Int64')\n",
    "df['last_idx'] = pd.to_numeric(df['last_idx'], errors='coerce').astype('Int64')\n",
    "\n",
    "combinations = df['combination'].tolist()\n",
    "first_idxs = df['first_idx'].tolist()\n",
    "last_idxs = df['last_idx'].tolist()\n",
    "\n",
    "for combination, first_idx, last_idx in zip(combinations, first_idxs, last_idxs):\n",
    "    stomp_data[combination] = {'first_idx': None, 'last_idx': None}\n",
    "\n",
    "with open(f'{root_path}data/stomp_refine_manual.json', 'w') as f:\n",
    "    json.dump(stomp_data, f, indent=4)"
   ]
  },
  {
   "cell_type": "code",
   "execution_count": null,
   "metadata": {},
   "outputs": [],
   "source": [
    "from glob import glob\n",
    "\n",
    "files = glob(f'{root_path}data/raw_3d_data/**/Wand*.csv')\n",
    "\n",
    "subjects = [int(file.split('/')[-2][1:]) for file in files]\n",
    "subjects = sorted(subjects)\n",
    "print(subjects)\n",
    "map_nums = {}\n",
    "cur_num = 16\n",
    "for i in range(1,29):\n",
    "    if i in subjects:\n",
    "        cur_num = i\n",
    "    map_nums[i] = cur_num\n",
    "\n",
    "map_nums_3d = map_nums.copy()\n",
    "map_nums_3d"
   ]
  },
  {
   "cell_type": "code",
   "execution_count": null,
   "metadata": {},
   "outputs": [],
   "source": [
    "import json\n",
    "import cv2\n",
    "import os\n",
    "from tqdm import tqdm\n",
    "os.makedirs(f'{root_path}data/markers/', exist_ok=True)\n",
    "\n",
    "with open(f'{root_path}data/markers_points.json', 'r') as f:\n",
    "    markers = json.load(f)\n",
    "\n",
    "num_keys = list(markers.keys())\n",
    "nums = 6*len(num_keys)\n",
    "\n",
    "pbar = tqdm(total=nums)\n",
    "\n",
    "for subject, dict1 in markers.items():\n",
    "    for camera, dict2 in dict1.items():\n",
    "        if 'points' in dict2:\n",
    "            path = dict2['path']\n",
    "            points = dict2['points']\n",
    "            save_path = f'{root_path}data/markers/' + path.split('/')[-1]\n",
    "            img = cv2.imread(root_path + path)\n",
    "            for i, point in enumerate(points):\n",
    "                cv2.circle(img, (int(point[0]), int(point[1])), 5, (0, 255, 0), -1)\n",
    "                #plot idx\n",
    "                cv2.putText(img, str(i), (int(point[0]), int(point[1])), cv2.FONT_HERSHEY_SIMPLEX, 1, (0, 0, 255), 2)\n",
    "            cv2.imwrite(save_path, img)\n",
    "        pbar.update(1)"
   ]
  },
  {
   "cell_type": "code",
   "execution_count": null,
   "metadata": {},
   "outputs": [],
   "source": [
    "import json\n",
    "import cv2\n",
    "import os\n",
    "from tqdm import tqdm\n",
    "os.makedirs(f'{root_path}data/markers_proj/', exist_ok=True)\n",
    "\n",
    "with open(f'{root_path}data/markers_points.json', 'r') as f:\n",
    "    markers = json.load(f)\n",
    "\n",
    "num_keys = list(markers.keys())\n",
    "nums = 6*len(num_keys)\n",
    "\n",
    "pbar = tqdm(total=nums)\n",
    "\n",
    "for subject, dict1 in markers.items():\n",
    "    for camera, dict2 in dict1.items():\n",
    "        if 'points' in dict2:\n",
    "            path = dict2['path']\n",
    "            points = dict2['points']\n",
    "            save_path = f'{root_path}data/markers_proj/' + path.split('/')[-1]\n",
    "            with open(f'{root_path}internal_data/{camera}/{subject}/{subject}A1D1.json', 'r') as f:\n",
    "                data = json.load(f)\n",
    "                frame = data[0]\n",
    "                wand = frame['wand_xy']\n",
    "            img = cv2.imread(root_path + path)\n",
    "            for i, point in enumerate(points):\n",
    "                cv2.circle(img, (int(point[0]), int(point[1])), 5, (0, 255, 0), -1)\n",
    "            for i, point in enumerate(wand):\n",
    "                cv2.circle(img, (int(point[0]), int(point[1])), 5, (255, 0, 0), -1)\n",
    "            cv2.imwrite(save_path, img)\n",
    "        pbar.update(1)"
   ]
  },
  {
   "cell_type": "code",
   "execution_count": 35,
   "metadata": {},
   "outputs": [],
   "source": [
    "with open(f'{root_path}data/markers_ids.json', 'r') as f:\n",
    "    markers_ids = json.load(f)\n",
    "with open(f'{root_path}data/markers_init.json', 'r') as f:\n",
    "    markers_init = json.load(f)\n",
    "\n",
    "keys = list(markers_ids.keys())\n",
    "\n",
    "new_dict = {}\n",
    "for key in keys:\n",
    "    cam = key.split('S')[0]\n",
    "    subject = f\"S{key.split('S')[1].split('A')[0]}\"\n",
    "    combination = key.split('_')[0]\n",
    "    path = f'frames/{cam}/{subject}/{combination}/{key}'\n",
    "    points = markers_init[key]\n",
    "    ids = markers_ids[key]\n",
    "    if len(ids) != len(points):\n",
    "        print(f\"Error: {key}\")\n",
    "    if subject not in new_dict:\n",
    "        new_dict[subject] = {}\n",
    "    if cam not in new_dict[subject]:\n",
    "        new_dict[subject][cam] = {}\n",
    "    new_dict[subject][cam] = {'path': path, 'points': points, 'ids': ids}\n",
    "\n",
    "with open(f'{root_path}data/markers_finetune.json', 'w') as f:\n",
    "    json.dump(new_dict, f, indent=4)"
   ]
  },
  {
   "cell_type": "code",
   "execution_count": 27,
   "metadata": {},
   "outputs": [
    {
     "name": "stdout",
     "output_type": "stream",
     "text": [
      "1\n"
     ]
    },
    {
     "data": {
      "text/html": [
       "\n",
       "<style>\n",
       "    /* Turns off some styling */\n",
       "    progress {\n",
       "        /* gets rid of default border in Firefox and Opera. */\n",
       "        border: none;\n",
       "        /* Needs to be in here for Safari polyfill so background images work as expected. */\n",
       "        background-size: auto;\n",
       "    }\n",
       "    progress:not([value]), progress:not([value])::-webkit-progress-bar {\n",
       "        background: repeating-linear-gradient(45deg, #7e7e7e, #7e7e7e 10px, #5c5c5c 10px, #5c5c5c 20px);\n",
       "    }\n",
       "    .progress-bar-interrupted, .progress-bar-interrupted::-webkit-progress-bar {\n",
       "        background: #F44336;\n",
       "    }\n",
       "</style>\n"
      ],
      "text/plain": [
       "<IPython.core.display.HTML object>"
      ]
     },
     "metadata": {},
     "output_type": "display_data"
    },
    {
     "data": {
      "text/html": [
       "\n",
       "    <div>\n",
       "      <progress value='1' class='' max='1' style='width:300px; height:20px; vertical-align: middle;'></progress>\n",
       "      100.00% [1/1 00:00&lt;00:00]\n",
       "    </div>\n",
       "    "
      ],
      "text/plain": [
       "<IPython.core.display.HTML object>"
      ]
     },
     "metadata": {},
     "output_type": "display_data"
    },
    {
     "name": "stdout",
     "output_type": "stream",
     "text": [
      "Processing S17 S17A1D1\n",
      "1\n"
     ]
    },
    {
     "data": {
      "text/html": [
       "\n",
       "<style>\n",
       "    /* Turns off some styling */\n",
       "    progress {\n",
       "        /* gets rid of default border in Firefox and Opera. */\n",
       "        border: none;\n",
       "        /* Needs to be in here for Safari polyfill so background images work as expected. */\n",
       "        background-size: auto;\n",
       "    }\n",
       "    progress:not([value]), progress:not([value])::-webkit-progress-bar {\n",
       "        background: repeating-linear-gradient(45deg, #7e7e7e, #7e7e7e 10px, #5c5c5c 10px, #5c5c5c 20px);\n",
       "    }\n",
       "    .progress-bar-interrupted, .progress-bar-interrupted::-webkit-progress-bar {\n",
       "        background: #F44336;\n",
       "    }\n",
       "</style>\n"
      ],
      "text/plain": [
       "<IPython.core.display.HTML object>"
      ]
     },
     "metadata": {},
     "output_type": "display_data"
    },
    {
     "data": {
      "text/html": [
       "\n",
       "    <div>\n",
       "      <progress value='1' class='' max='1' style='width:300px; height:20px; vertical-align: middle;'></progress>\n",
       "      100.00% [1/1 00:00&lt;00:00]\n",
       "    </div>\n",
       "    "
      ],
      "text/plain": [
       "<IPython.core.display.HTML object>"
      ]
     },
     "metadata": {},
     "output_type": "display_data"
    },
    {
     "data": {
      "application/vnd.plotly.v1+json": {
       "config": {
        "plotlyServerURL": "https://plot.ly"
       },
       "data": [
        {
         "marker": {
          "size": 8
         },
         "mode": "markers",
         "type": "scatter3d",
         "x": [
          -1.9059071364920401,
          -0.582097899794698,
          2.1068710446453647,
          -0.5454660843743534,
          -0.5869838687543626
         ],
         "y": [
          16.680695537655858,
          16.67493897642762,
          16.67967102701409,
          16.526551055063745,
          16.37623993091634
         ],
         "z": [
          44.979250162458975,
          44.99232754051518,
          45.04677851249599,
          46.98134206209621,
          48.891684848388394
         ]
        },
        {
         "marker": {
          "color": "red",
          "size": 10
         },
         "mode": "markers",
         "name": "1",
         "type": "scatter3d",
         "x": [
          0
         ],
         "y": [
          0
         ],
         "z": [
          0
         ]
        },
        {
         "marker": {
          "color": "green",
          "size": 10
         },
         "mode": "markers",
         "name": "2",
         "type": "scatter3d",
         "x": [
          29.67975192615285
         ],
         "y": [
          -0.31433199289921293
         ],
         "z": [
          9.311834292333971
         ]
        },
        {
         "marker": {
          "color": "yellow",
          "size": 10
         },
         "mode": "markers",
         "name": "3",
         "type": "scatter3d",
         "x": [
          -28.211724251266396
         ],
         "y": [
          -2.180253783152425
         ],
         "z": [
          8.151077895062583
         ]
        },
        {
         "line": {
          "color": "red",
          "width": 5
         },
         "mode": "lines+text",
         "type": "scatter3d",
         "x": [
          0,
          10
         ],
         "y": [
          0,
          0
         ],
         "z": [
          0,
          0
         ]
        },
        {
         "line": {
          "color": "green",
          "width": 5
         },
         "mode": "lines+text",
         "type": "scatter3d",
         "x": [
          0,
          0
         ],
         "y": [
          0,
          10
         ],
         "z": [
          0,
          0
         ]
        },
        {
         "line": {
          "color": "blue",
          "width": 5
         },
         "mode": "lines+text",
         "type": "scatter3d",
         "x": [
          0,
          0
         ],
         "y": [
          0,
          0
         ],
         "z": [
          0,
          10
         ]
        },
        {
         "line": {
          "color": "red",
          "width": 5
         },
         "mode": "lines+text",
         "type": "scatter3d",
         "x": [
          29.67975192615285,
          36.82440953876768
         ],
         "y": [
          -0.31433199289921293,
          -1.2515967358370157
         ],
         "z": [
          9.311834292333971,
          16.245477086720676
         ]
        },
        {
         "line": {
          "color": "green",
          "width": 5
         },
         "mode": "lines+text",
         "type": "scatter3d",
         "x": [
          29.67975192615285,
          29.94022612048667
         ],
         "y": [
          -0.31433199289921293,
          9.624298923572823
         ],
         "z": [
          9.311834292333971,
          10.386901127573694
         ]
        },
        {
         "line": {
          "color": "blue",
          "width": 5
         },
         "mode": "lines+text",
         "type": "scatter3d",
         "x": [
          29.67975192615285,
          22.68789803804913
         ],
         "y": [
          -0.31433199289921293,
          -0.9018269356790976
         ],
         "z": [
          9.311834292333971,
          16.437059123847497
         ]
        },
        {
         "line": {
          "color": "red",
          "width": 5
         },
         "mode": "lines+text",
         "type": "scatter3d",
         "x": [
          -28.211724251266396,
          -20.88858586690958
         ],
         "y": [
          -2.180253783152425,
          -0.5252107116807094
         ],
         "z": [
          8.151077895062583,
          1.5455895228728842
         ]
        },
        {
         "line": {
          "color": "green",
          "width": 5
         },
         "mode": "lines+text",
         "type": "scatter3d",
         "x": [
          -28.211724251266396,
          -29.25037717537127
         ],
         "y": [
          -2.180253783152425,
          7.677875879933421
         ],
         "z": [
          8.151077895062583,
          9.46959207740396
         ]
        },
        {
         "line": {
          "color": "blue",
          "width": 5
         },
         "mode": "lines+text",
         "type": "scatter3d",
         "x": [
          -28.211724251266396,
          -21.481728388949076
         ],
         "y": [
          -2.180253783152425,
          -2.459738983763166
         ],
         "z": [
          8.151077895062583,
          15.542224201003993
         ]
        },
        {
         "line": {
          "color": "red",
          "width": 5
         },
         "mode": "lines+text",
         "type": "scatter3d",
         "x": [
          -0.582097899794698,
          9.415836991967451
         ],
         "y": [
          16.67493897642762,
          16.692533353545993
         ],
         "z": [
          44.99232754051518,
          45.19478330847151
         ]
        },
        {
         "line": {
          "color": "green",
          "width": 5
         },
         "mode": "lines+text",
         "type": "scatter3d",
         "x": [
          -0.582097899794698,
          -0.5490917036480807
         ],
         "y": [
          16.67493897642762,
          6.705963826260225
         ],
         "z": [
          44.99232754051518,
          44.228724243936334
         ]
        },
        {
         "line": {
          "color": "blue",
          "width": 5
         },
         "mode": "lines+text",
         "type": "scatter3d",
         "x": [
          -0.582097899794698,
          -0.5945914786114833
         ],
         "y": [
          16.67493897642762,
          15.911155968716933
         ],
         "z": [
          44.99232754051518,
          54.963108825230066
         ]
        }
       ],
       "layout": {
        "margin": {
         "b": 10,
         "l": 10,
         "r": 20,
         "t": 10
        },
        "scene": {
         "xaxis": {
          "title": {
           "text": "X"
          }
         },
         "yaxis": {
          "title": {
           "text": "Y"
          }
         },
         "zaxis": {
          "title": {
           "text": "Z"
          }
         }
        },
        "template": {
         "data": {
          "bar": [
           {
            "error_x": {
             "color": "#2a3f5f"
            },
            "error_y": {
             "color": "#2a3f5f"
            },
            "marker": {
             "line": {
              "color": "#E5ECF6",
              "width": 0.5
             },
             "pattern": {
              "fillmode": "overlay",
              "size": 10,
              "solidity": 0.2
             }
            },
            "type": "bar"
           }
          ],
          "barpolar": [
           {
            "marker": {
             "line": {
              "color": "#E5ECF6",
              "width": 0.5
             },
             "pattern": {
              "fillmode": "overlay",
              "size": 10,
              "solidity": 0.2
             }
            },
            "type": "barpolar"
           }
          ],
          "carpet": [
           {
            "aaxis": {
             "endlinecolor": "#2a3f5f",
             "gridcolor": "white",
             "linecolor": "white",
             "minorgridcolor": "white",
             "startlinecolor": "#2a3f5f"
            },
            "baxis": {
             "endlinecolor": "#2a3f5f",
             "gridcolor": "white",
             "linecolor": "white",
             "minorgridcolor": "white",
             "startlinecolor": "#2a3f5f"
            },
            "type": "carpet"
           }
          ],
          "choropleth": [
           {
            "colorbar": {
             "outlinewidth": 0,
             "ticks": ""
            },
            "type": "choropleth"
           }
          ],
          "contour": [
           {
            "colorbar": {
             "outlinewidth": 0,
             "ticks": ""
            },
            "colorscale": [
             [
              0,
              "#0d0887"
             ],
             [
              0.1111111111111111,
              "#46039f"
             ],
             [
              0.2222222222222222,
              "#7201a8"
             ],
             [
              0.3333333333333333,
              "#9c179e"
             ],
             [
              0.4444444444444444,
              "#bd3786"
             ],
             [
              0.5555555555555556,
              "#d8576b"
             ],
             [
              0.6666666666666666,
              "#ed7953"
             ],
             [
              0.7777777777777778,
              "#fb9f3a"
             ],
             [
              0.8888888888888888,
              "#fdca26"
             ],
             [
              1,
              "#f0f921"
             ]
            ],
            "type": "contour"
           }
          ],
          "contourcarpet": [
           {
            "colorbar": {
             "outlinewidth": 0,
             "ticks": ""
            },
            "type": "contourcarpet"
           }
          ],
          "heatmap": [
           {
            "colorbar": {
             "outlinewidth": 0,
             "ticks": ""
            },
            "colorscale": [
             [
              0,
              "#0d0887"
             ],
             [
              0.1111111111111111,
              "#46039f"
             ],
             [
              0.2222222222222222,
              "#7201a8"
             ],
             [
              0.3333333333333333,
              "#9c179e"
             ],
             [
              0.4444444444444444,
              "#bd3786"
             ],
             [
              0.5555555555555556,
              "#d8576b"
             ],
             [
              0.6666666666666666,
              "#ed7953"
             ],
             [
              0.7777777777777778,
              "#fb9f3a"
             ],
             [
              0.8888888888888888,
              "#fdca26"
             ],
             [
              1,
              "#f0f921"
             ]
            ],
            "type": "heatmap"
           }
          ],
          "heatmapgl": [
           {
            "colorbar": {
             "outlinewidth": 0,
             "ticks": ""
            },
            "colorscale": [
             [
              0,
              "#0d0887"
             ],
             [
              0.1111111111111111,
              "#46039f"
             ],
             [
              0.2222222222222222,
              "#7201a8"
             ],
             [
              0.3333333333333333,
              "#9c179e"
             ],
             [
              0.4444444444444444,
              "#bd3786"
             ],
             [
              0.5555555555555556,
              "#d8576b"
             ],
             [
              0.6666666666666666,
              "#ed7953"
             ],
             [
              0.7777777777777778,
              "#fb9f3a"
             ],
             [
              0.8888888888888888,
              "#fdca26"
             ],
             [
              1,
              "#f0f921"
             ]
            ],
            "type": "heatmapgl"
           }
          ],
          "histogram": [
           {
            "marker": {
             "pattern": {
              "fillmode": "overlay",
              "size": 10,
              "solidity": 0.2
             }
            },
            "type": "histogram"
           }
          ],
          "histogram2d": [
           {
            "colorbar": {
             "outlinewidth": 0,
             "ticks": ""
            },
            "colorscale": [
             [
              0,
              "#0d0887"
             ],
             [
              0.1111111111111111,
              "#46039f"
             ],
             [
              0.2222222222222222,
              "#7201a8"
             ],
             [
              0.3333333333333333,
              "#9c179e"
             ],
             [
              0.4444444444444444,
              "#bd3786"
             ],
             [
              0.5555555555555556,
              "#d8576b"
             ],
             [
              0.6666666666666666,
              "#ed7953"
             ],
             [
              0.7777777777777778,
              "#fb9f3a"
             ],
             [
              0.8888888888888888,
              "#fdca26"
             ],
             [
              1,
              "#f0f921"
             ]
            ],
            "type": "histogram2d"
           }
          ],
          "histogram2dcontour": [
           {
            "colorbar": {
             "outlinewidth": 0,
             "ticks": ""
            },
            "colorscale": [
             [
              0,
              "#0d0887"
             ],
             [
              0.1111111111111111,
              "#46039f"
             ],
             [
              0.2222222222222222,
              "#7201a8"
             ],
             [
              0.3333333333333333,
              "#9c179e"
             ],
             [
              0.4444444444444444,
              "#bd3786"
             ],
             [
              0.5555555555555556,
              "#d8576b"
             ],
             [
              0.6666666666666666,
              "#ed7953"
             ],
             [
              0.7777777777777778,
              "#fb9f3a"
             ],
             [
              0.8888888888888888,
              "#fdca26"
             ],
             [
              1,
              "#f0f921"
             ]
            ],
            "type": "histogram2dcontour"
           }
          ],
          "mesh3d": [
           {
            "colorbar": {
             "outlinewidth": 0,
             "ticks": ""
            },
            "type": "mesh3d"
           }
          ],
          "parcoords": [
           {
            "line": {
             "colorbar": {
              "outlinewidth": 0,
              "ticks": ""
             }
            },
            "type": "parcoords"
           }
          ],
          "pie": [
           {
            "automargin": true,
            "type": "pie"
           }
          ],
          "scatter": [
           {
            "fillpattern": {
             "fillmode": "overlay",
             "size": 10,
             "solidity": 0.2
            },
            "type": "scatter"
           }
          ],
          "scatter3d": [
           {
            "line": {
             "colorbar": {
              "outlinewidth": 0,
              "ticks": ""
             }
            },
            "marker": {
             "colorbar": {
              "outlinewidth": 0,
              "ticks": ""
             }
            },
            "type": "scatter3d"
           }
          ],
          "scattercarpet": [
           {
            "marker": {
             "colorbar": {
              "outlinewidth": 0,
              "ticks": ""
             }
            },
            "type": "scattercarpet"
           }
          ],
          "scattergeo": [
           {
            "marker": {
             "colorbar": {
              "outlinewidth": 0,
              "ticks": ""
             }
            },
            "type": "scattergeo"
           }
          ],
          "scattergl": [
           {
            "marker": {
             "colorbar": {
              "outlinewidth": 0,
              "ticks": ""
             }
            },
            "type": "scattergl"
           }
          ],
          "scattermapbox": [
           {
            "marker": {
             "colorbar": {
              "outlinewidth": 0,
              "ticks": ""
             }
            },
            "type": "scattermapbox"
           }
          ],
          "scatterpolar": [
           {
            "marker": {
             "colorbar": {
              "outlinewidth": 0,
              "ticks": ""
             }
            },
            "type": "scatterpolar"
           }
          ],
          "scatterpolargl": [
           {
            "marker": {
             "colorbar": {
              "outlinewidth": 0,
              "ticks": ""
             }
            },
            "type": "scatterpolargl"
           }
          ],
          "scatterternary": [
           {
            "marker": {
             "colorbar": {
              "outlinewidth": 0,
              "ticks": ""
             }
            },
            "type": "scatterternary"
           }
          ],
          "surface": [
           {
            "colorbar": {
             "outlinewidth": 0,
             "ticks": ""
            },
            "colorscale": [
             [
              0,
              "#0d0887"
             ],
             [
              0.1111111111111111,
              "#46039f"
             ],
             [
              0.2222222222222222,
              "#7201a8"
             ],
             [
              0.3333333333333333,
              "#9c179e"
             ],
             [
              0.4444444444444444,
              "#bd3786"
             ],
             [
              0.5555555555555556,
              "#d8576b"
             ],
             [
              0.6666666666666666,
              "#ed7953"
             ],
             [
              0.7777777777777778,
              "#fb9f3a"
             ],
             [
              0.8888888888888888,
              "#fdca26"
             ],
             [
              1,
              "#f0f921"
             ]
            ],
            "type": "surface"
           }
          ],
          "table": [
           {
            "cells": {
             "fill": {
              "color": "#EBF0F8"
             },
             "line": {
              "color": "white"
             }
            },
            "header": {
             "fill": {
              "color": "#C8D4E3"
             },
             "line": {
              "color": "white"
             }
            },
            "type": "table"
           }
          ]
         },
         "layout": {
          "annotationdefaults": {
           "arrowcolor": "#2a3f5f",
           "arrowhead": 0,
           "arrowwidth": 1
          },
          "autotypenumbers": "strict",
          "coloraxis": {
           "colorbar": {
            "outlinewidth": 0,
            "ticks": ""
           }
          },
          "colorscale": {
           "diverging": [
            [
             0,
             "#8e0152"
            ],
            [
             0.1,
             "#c51b7d"
            ],
            [
             0.2,
             "#de77ae"
            ],
            [
             0.3,
             "#f1b6da"
            ],
            [
             0.4,
             "#fde0ef"
            ],
            [
             0.5,
             "#f7f7f7"
            ],
            [
             0.6,
             "#e6f5d0"
            ],
            [
             0.7,
             "#b8e186"
            ],
            [
             0.8,
             "#7fbc41"
            ],
            [
             0.9,
             "#4d9221"
            ],
            [
             1,
             "#276419"
            ]
           ],
           "sequential": [
            [
             0,
             "#0d0887"
            ],
            [
             0.1111111111111111,
             "#46039f"
            ],
            [
             0.2222222222222222,
             "#7201a8"
            ],
            [
             0.3333333333333333,
             "#9c179e"
            ],
            [
             0.4444444444444444,
             "#bd3786"
            ],
            [
             0.5555555555555556,
             "#d8576b"
            ],
            [
             0.6666666666666666,
             "#ed7953"
            ],
            [
             0.7777777777777778,
             "#fb9f3a"
            ],
            [
             0.8888888888888888,
             "#fdca26"
            ],
            [
             1,
             "#f0f921"
            ]
           ],
           "sequentialminus": [
            [
             0,
             "#0d0887"
            ],
            [
             0.1111111111111111,
             "#46039f"
            ],
            [
             0.2222222222222222,
             "#7201a8"
            ],
            [
             0.3333333333333333,
             "#9c179e"
            ],
            [
             0.4444444444444444,
             "#bd3786"
            ],
            [
             0.5555555555555556,
             "#d8576b"
            ],
            [
             0.6666666666666666,
             "#ed7953"
            ],
            [
             0.7777777777777778,
             "#fb9f3a"
            ],
            [
             0.8888888888888888,
             "#fdca26"
            ],
            [
             1,
             "#f0f921"
            ]
           ]
          },
          "colorway": [
           "#636efa",
           "#EF553B",
           "#00cc96",
           "#ab63fa",
           "#FFA15A",
           "#19d3f3",
           "#FF6692",
           "#B6E880",
           "#FF97FF",
           "#FECB52"
          ],
          "font": {
           "color": "#2a3f5f"
          },
          "geo": {
           "bgcolor": "white",
           "lakecolor": "white",
           "landcolor": "#E5ECF6",
           "showlakes": true,
           "showland": true,
           "subunitcolor": "white"
          },
          "hoverlabel": {
           "align": "left"
          },
          "hovermode": "closest",
          "mapbox": {
           "style": "light"
          },
          "paper_bgcolor": "white",
          "plot_bgcolor": "#E5ECF6",
          "polar": {
           "angularaxis": {
            "gridcolor": "white",
            "linecolor": "white",
            "ticks": ""
           },
           "bgcolor": "#E5ECF6",
           "radialaxis": {
            "gridcolor": "white",
            "linecolor": "white",
            "ticks": ""
           }
          },
          "scene": {
           "xaxis": {
            "backgroundcolor": "#E5ECF6",
            "gridcolor": "white",
            "gridwidth": 2,
            "linecolor": "white",
            "showbackground": true,
            "ticks": "",
            "zerolinecolor": "white"
           },
           "yaxis": {
            "backgroundcolor": "#E5ECF6",
            "gridcolor": "white",
            "gridwidth": 2,
            "linecolor": "white",
            "showbackground": true,
            "ticks": "",
            "zerolinecolor": "white"
           },
           "zaxis": {
            "backgroundcolor": "#E5ECF6",
            "gridcolor": "white",
            "gridwidth": 2,
            "linecolor": "white",
            "showbackground": true,
            "ticks": "",
            "zerolinecolor": "white"
           }
          },
          "shapedefaults": {
           "line": {
            "color": "#2a3f5f"
           }
          },
          "ternary": {
           "aaxis": {
            "gridcolor": "white",
            "linecolor": "white",
            "ticks": ""
           },
           "baxis": {
            "gridcolor": "white",
            "linecolor": "white",
            "ticks": ""
           },
           "bgcolor": "#E5ECF6",
           "caxis": {
            "gridcolor": "white",
            "linecolor": "white",
            "ticks": ""
           }
          },
          "title": {
           "x": 0.05
          },
          "xaxis": {
           "automargin": true,
           "gridcolor": "white",
           "linecolor": "white",
           "ticks": "",
           "title": {
            "standoff": 15
           },
           "zerolinecolor": "white",
           "zerolinewidth": 2
          },
          "yaxis": {
           "automargin": true,
           "gridcolor": "white",
           "linecolor": "white",
           "ticks": "",
           "title": {
            "standoff": 15
           },
           "zerolinecolor": "white",
           "zerolinewidth": 2
          }
         }
        },
        "width": 700
       }
      }
     },
     "metadata": {},
     "output_type": "display_data"
    },
    {
     "name": "stdout",
     "output_type": "stream",
     "text": [
      "Main: 1\n"
     ]
    },
    {
     "data": {
      "application/vnd.plotly.v1+json": {
       "config": {
        "plotlyServerURL": "https://plot.ly"
       },
       "data": [
        {
         "marker": {
          "size": 5
         },
         "mode": "markers",
         "type": "scatter3d",
         "x": [
          -1.9059071364920401,
          -0.582097899794698,
          2.1068710446453647,
          -0.5454660843743534,
          -0.5869838687543626
         ],
         "y": [
          16.680695537655858,
          16.67493897642762,
          16.67967102701409,
          16.526551055063745,
          16.37623993091634
         ],
         "z": [
          44.979250162458975,
          44.99232754051518,
          45.04677851249599,
          46.98134206209621,
          48.891684848388394
         ]
        },
        {
         "marker": {
          "color": "red",
          "size": 10
         },
         "mode": "markers",
         "name": "1",
         "type": "scatter3d",
         "x": [
          0
         ],
         "y": [
          0
         ],
         "z": [
          0
         ]
        },
        {
         "marker": {
          "color": "green",
          "size": 10
         },
         "mode": "markers",
         "name": "2",
         "type": "scatter3d",
         "x": [
          29.67975192615285
         ],
         "y": [
          -0.31433199289921293
         ],
         "z": [
          9.311834292333971
         ]
        },
        {
         "marker": {
          "color": "yellow",
          "size": 10
         },
         "mode": "markers",
         "name": "3",
         "type": "scatter3d",
         "x": [
          -28.211724251266396
         ],
         "y": [
          -2.180253783152425
         ],
         "z": [
          8.151077895062583
         ]
        },
        {
         "marker": {
          "color": "black",
          "size": 4
         },
         "mode": "markers",
         "name": "wand",
         "type": "scatter3d",
         "x": [
          -1.900410097235558,
          -0.5662992865541832,
          2.0990577034461793,
          -0.5717834593543722,
          -0.5741488050721555
         ],
         "y": [
          16.677092188526657,
          16.677897052387774,
          16.683839359802313,
          16.526705347533596,
          16.372562578827306
         ],
         "z": [
          44.9479607503806,
          44.97438563408369,
          45.026862471200076,
          46.97377553048617,
          48.968398739804236
         ]
        },
        {
         "line": {
          "color": "red",
          "width": 5
         },
         "mode": "lines+text",
         "type": "scatter3d",
         "x": [
          0,
          10
         ],
         "y": [
          0,
          0
         ],
         "z": [
          0,
          0
         ]
        },
        {
         "line": {
          "color": "green",
          "width": 5
         },
         "mode": "lines+text",
         "type": "scatter3d",
         "x": [
          0,
          0
         ],
         "y": [
          0,
          10
         ],
         "z": [
          0,
          0
         ]
        },
        {
         "line": {
          "color": "blue",
          "width": 5
         },
         "mode": "lines+text",
         "type": "scatter3d",
         "x": [
          0,
          0
         ],
         "y": [
          0,
          0
         ],
         "z": [
          0,
          10
         ]
        },
        {
         "line": {
          "color": "red",
          "width": 5
         },
         "mode": "lines+text",
         "type": "scatter3d",
         "x": [
          29.67975192615285,
          36.82440953876768
         ],
         "y": [
          -0.31433199289921293,
          -1.2515967358370157
         ],
         "z": [
          9.311834292333971,
          16.245477086720676
         ]
        },
        {
         "line": {
          "color": "green",
          "width": 5
         },
         "mode": "lines+text",
         "type": "scatter3d",
         "x": [
          29.67975192615285,
          29.94022612048667
         ],
         "y": [
          -0.31433199289921293,
          9.624298923572823
         ],
         "z": [
          9.311834292333971,
          10.386901127573694
         ]
        },
        {
         "line": {
          "color": "blue",
          "width": 5
         },
         "mode": "lines+text",
         "type": "scatter3d",
         "x": [
          29.67975192615285,
          22.68789803804913
         ],
         "y": [
          -0.31433199289921293,
          -0.9018269356790976
         ],
         "z": [
          9.311834292333971,
          16.437059123847497
         ]
        },
        {
         "line": {
          "color": "red",
          "width": 5
         },
         "mode": "lines+text",
         "type": "scatter3d",
         "x": [
          -28.211724251266396,
          -20.88858586690958
         ],
         "y": [
          -2.180253783152425,
          -0.5252107116807094
         ],
         "z": [
          8.151077895062583,
          1.5455895228728842
         ]
        },
        {
         "line": {
          "color": "green",
          "width": 5
         },
         "mode": "lines+text",
         "type": "scatter3d",
         "x": [
          -28.211724251266396,
          -29.25037717537127
         ],
         "y": [
          -2.180253783152425,
          7.677875879933421
         ],
         "z": [
          8.151077895062583,
          9.46959207740396
         ]
        },
        {
         "line": {
          "color": "blue",
          "width": 5
         },
         "mode": "lines+text",
         "type": "scatter3d",
         "x": [
          -28.211724251266396,
          -21.481728388949076
         ],
         "y": [
          -2.180253783152425,
          -2.459738983763166
         ],
         "z": [
          8.151077895062583,
          15.542224201003993
         ]
        },
        {
         "line": {
          "color": "red",
          "width": 5
         },
         "mode": "lines+text",
         "type": "scatter3d",
         "x": [
          -0.582097899794698,
          9.415836991967451
         ],
         "y": [
          16.67493897642762,
          16.692533353545993
         ],
         "z": [
          44.99232754051518,
          45.19478330847151
         ]
        },
        {
         "line": {
          "color": "green",
          "width": 5
         },
         "mode": "lines+text",
         "type": "scatter3d",
         "x": [
          -0.582097899794698,
          -0.5490917036480807
         ],
         "y": [
          16.67493897642762,
          6.705963826260225
         ],
         "z": [
          44.99232754051518,
          44.228724243936334
         ]
        },
        {
         "line": {
          "color": "blue",
          "width": 5
         },
         "mode": "lines+text",
         "type": "scatter3d",
         "x": [
          -0.582097899794698,
          -0.5945914786114833
         ],
         "y": [
          16.67493897642762,
          15.911155968716933
         ],
         "z": [
          44.99232754051518,
          54.963108825230066
         ]
        }
       ],
       "layout": {
        "margin": {
         "b": 10,
         "l": 10,
         "r": 20,
         "t": 10
        },
        "scene": {
         "xaxis": {
          "title": {
           "text": "X"
          }
         },
         "yaxis": {
          "title": {
           "text": "Y"
          }
         },
         "zaxis": {
          "title": {
           "text": "Z"
          }
         }
        },
        "template": {
         "data": {
          "bar": [
           {
            "error_x": {
             "color": "#2a3f5f"
            },
            "error_y": {
             "color": "#2a3f5f"
            },
            "marker": {
             "line": {
              "color": "#E5ECF6",
              "width": 0.5
             },
             "pattern": {
              "fillmode": "overlay",
              "size": 10,
              "solidity": 0.2
             }
            },
            "type": "bar"
           }
          ],
          "barpolar": [
           {
            "marker": {
             "line": {
              "color": "#E5ECF6",
              "width": 0.5
             },
             "pattern": {
              "fillmode": "overlay",
              "size": 10,
              "solidity": 0.2
             }
            },
            "type": "barpolar"
           }
          ],
          "carpet": [
           {
            "aaxis": {
             "endlinecolor": "#2a3f5f",
             "gridcolor": "white",
             "linecolor": "white",
             "minorgridcolor": "white",
             "startlinecolor": "#2a3f5f"
            },
            "baxis": {
             "endlinecolor": "#2a3f5f",
             "gridcolor": "white",
             "linecolor": "white",
             "minorgridcolor": "white",
             "startlinecolor": "#2a3f5f"
            },
            "type": "carpet"
           }
          ],
          "choropleth": [
           {
            "colorbar": {
             "outlinewidth": 0,
             "ticks": ""
            },
            "type": "choropleth"
           }
          ],
          "contour": [
           {
            "colorbar": {
             "outlinewidth": 0,
             "ticks": ""
            },
            "colorscale": [
             [
              0,
              "#0d0887"
             ],
             [
              0.1111111111111111,
              "#46039f"
             ],
             [
              0.2222222222222222,
              "#7201a8"
             ],
             [
              0.3333333333333333,
              "#9c179e"
             ],
             [
              0.4444444444444444,
              "#bd3786"
             ],
             [
              0.5555555555555556,
              "#d8576b"
             ],
             [
              0.6666666666666666,
              "#ed7953"
             ],
             [
              0.7777777777777778,
              "#fb9f3a"
             ],
             [
              0.8888888888888888,
              "#fdca26"
             ],
             [
              1,
              "#f0f921"
             ]
            ],
            "type": "contour"
           }
          ],
          "contourcarpet": [
           {
            "colorbar": {
             "outlinewidth": 0,
             "ticks": ""
            },
            "type": "contourcarpet"
           }
          ],
          "heatmap": [
           {
            "colorbar": {
             "outlinewidth": 0,
             "ticks": ""
            },
            "colorscale": [
             [
              0,
              "#0d0887"
             ],
             [
              0.1111111111111111,
              "#46039f"
             ],
             [
              0.2222222222222222,
              "#7201a8"
             ],
             [
              0.3333333333333333,
              "#9c179e"
             ],
             [
              0.4444444444444444,
              "#bd3786"
             ],
             [
              0.5555555555555556,
              "#d8576b"
             ],
             [
              0.6666666666666666,
              "#ed7953"
             ],
             [
              0.7777777777777778,
              "#fb9f3a"
             ],
             [
              0.8888888888888888,
              "#fdca26"
             ],
             [
              1,
              "#f0f921"
             ]
            ],
            "type": "heatmap"
           }
          ],
          "heatmapgl": [
           {
            "colorbar": {
             "outlinewidth": 0,
             "ticks": ""
            },
            "colorscale": [
             [
              0,
              "#0d0887"
             ],
             [
              0.1111111111111111,
              "#46039f"
             ],
             [
              0.2222222222222222,
              "#7201a8"
             ],
             [
              0.3333333333333333,
              "#9c179e"
             ],
             [
              0.4444444444444444,
              "#bd3786"
             ],
             [
              0.5555555555555556,
              "#d8576b"
             ],
             [
              0.6666666666666666,
              "#ed7953"
             ],
             [
              0.7777777777777778,
              "#fb9f3a"
             ],
             [
              0.8888888888888888,
              "#fdca26"
             ],
             [
              1,
              "#f0f921"
             ]
            ],
            "type": "heatmapgl"
           }
          ],
          "histogram": [
           {
            "marker": {
             "pattern": {
              "fillmode": "overlay",
              "size": 10,
              "solidity": 0.2
             }
            },
            "type": "histogram"
           }
          ],
          "histogram2d": [
           {
            "colorbar": {
             "outlinewidth": 0,
             "ticks": ""
            },
            "colorscale": [
             [
              0,
              "#0d0887"
             ],
             [
              0.1111111111111111,
              "#46039f"
             ],
             [
              0.2222222222222222,
              "#7201a8"
             ],
             [
              0.3333333333333333,
              "#9c179e"
             ],
             [
              0.4444444444444444,
              "#bd3786"
             ],
             [
              0.5555555555555556,
              "#d8576b"
             ],
             [
              0.6666666666666666,
              "#ed7953"
             ],
             [
              0.7777777777777778,
              "#fb9f3a"
             ],
             [
              0.8888888888888888,
              "#fdca26"
             ],
             [
              1,
              "#f0f921"
             ]
            ],
            "type": "histogram2d"
           }
          ],
          "histogram2dcontour": [
           {
            "colorbar": {
             "outlinewidth": 0,
             "ticks": ""
            },
            "colorscale": [
             [
              0,
              "#0d0887"
             ],
             [
              0.1111111111111111,
              "#46039f"
             ],
             [
              0.2222222222222222,
              "#7201a8"
             ],
             [
              0.3333333333333333,
              "#9c179e"
             ],
             [
              0.4444444444444444,
              "#bd3786"
             ],
             [
              0.5555555555555556,
              "#d8576b"
             ],
             [
              0.6666666666666666,
              "#ed7953"
             ],
             [
              0.7777777777777778,
              "#fb9f3a"
             ],
             [
              0.8888888888888888,
              "#fdca26"
             ],
             [
              1,
              "#f0f921"
             ]
            ],
            "type": "histogram2dcontour"
           }
          ],
          "mesh3d": [
           {
            "colorbar": {
             "outlinewidth": 0,
             "ticks": ""
            },
            "type": "mesh3d"
           }
          ],
          "parcoords": [
           {
            "line": {
             "colorbar": {
              "outlinewidth": 0,
              "ticks": ""
             }
            },
            "type": "parcoords"
           }
          ],
          "pie": [
           {
            "automargin": true,
            "type": "pie"
           }
          ],
          "scatter": [
           {
            "fillpattern": {
             "fillmode": "overlay",
             "size": 10,
             "solidity": 0.2
            },
            "type": "scatter"
           }
          ],
          "scatter3d": [
           {
            "line": {
             "colorbar": {
              "outlinewidth": 0,
              "ticks": ""
             }
            },
            "marker": {
             "colorbar": {
              "outlinewidth": 0,
              "ticks": ""
             }
            },
            "type": "scatter3d"
           }
          ],
          "scattercarpet": [
           {
            "marker": {
             "colorbar": {
              "outlinewidth": 0,
              "ticks": ""
             }
            },
            "type": "scattercarpet"
           }
          ],
          "scattergeo": [
           {
            "marker": {
             "colorbar": {
              "outlinewidth": 0,
              "ticks": ""
             }
            },
            "type": "scattergeo"
           }
          ],
          "scattergl": [
           {
            "marker": {
             "colorbar": {
              "outlinewidth": 0,
              "ticks": ""
             }
            },
            "type": "scattergl"
           }
          ],
          "scattermapbox": [
           {
            "marker": {
             "colorbar": {
              "outlinewidth": 0,
              "ticks": ""
             }
            },
            "type": "scattermapbox"
           }
          ],
          "scatterpolar": [
           {
            "marker": {
             "colorbar": {
              "outlinewidth": 0,
              "ticks": ""
             }
            },
            "type": "scatterpolar"
           }
          ],
          "scatterpolargl": [
           {
            "marker": {
             "colorbar": {
              "outlinewidth": 0,
              "ticks": ""
             }
            },
            "type": "scatterpolargl"
           }
          ],
          "scatterternary": [
           {
            "marker": {
             "colorbar": {
              "outlinewidth": 0,
              "ticks": ""
             }
            },
            "type": "scatterternary"
           }
          ],
          "surface": [
           {
            "colorbar": {
             "outlinewidth": 0,
             "ticks": ""
            },
            "colorscale": [
             [
              0,
              "#0d0887"
             ],
             [
              0.1111111111111111,
              "#46039f"
             ],
             [
              0.2222222222222222,
              "#7201a8"
             ],
             [
              0.3333333333333333,
              "#9c179e"
             ],
             [
              0.4444444444444444,
              "#bd3786"
             ],
             [
              0.5555555555555556,
              "#d8576b"
             ],
             [
              0.6666666666666666,
              "#ed7953"
             ],
             [
              0.7777777777777778,
              "#fb9f3a"
             ],
             [
              0.8888888888888888,
              "#fdca26"
             ],
             [
              1,
              "#f0f921"
             ]
            ],
            "type": "surface"
           }
          ],
          "table": [
           {
            "cells": {
             "fill": {
              "color": "#EBF0F8"
             },
             "line": {
              "color": "white"
             }
            },
            "header": {
             "fill": {
              "color": "#C8D4E3"
             },
             "line": {
              "color": "white"
             }
            },
            "type": "table"
           }
          ]
         },
         "layout": {
          "annotationdefaults": {
           "arrowcolor": "#2a3f5f",
           "arrowhead": 0,
           "arrowwidth": 1
          },
          "autotypenumbers": "strict",
          "coloraxis": {
           "colorbar": {
            "outlinewidth": 0,
            "ticks": ""
           }
          },
          "colorscale": {
           "diverging": [
            [
             0,
             "#8e0152"
            ],
            [
             0.1,
             "#c51b7d"
            ],
            [
             0.2,
             "#de77ae"
            ],
            [
             0.3,
             "#f1b6da"
            ],
            [
             0.4,
             "#fde0ef"
            ],
            [
             0.5,
             "#f7f7f7"
            ],
            [
             0.6,
             "#e6f5d0"
            ],
            [
             0.7,
             "#b8e186"
            ],
            [
             0.8,
             "#7fbc41"
            ],
            [
             0.9,
             "#4d9221"
            ],
            [
             1,
             "#276419"
            ]
           ],
           "sequential": [
            [
             0,
             "#0d0887"
            ],
            [
             0.1111111111111111,
             "#46039f"
            ],
            [
             0.2222222222222222,
             "#7201a8"
            ],
            [
             0.3333333333333333,
             "#9c179e"
            ],
            [
             0.4444444444444444,
             "#bd3786"
            ],
            [
             0.5555555555555556,
             "#d8576b"
            ],
            [
             0.6666666666666666,
             "#ed7953"
            ],
            [
             0.7777777777777778,
             "#fb9f3a"
            ],
            [
             0.8888888888888888,
             "#fdca26"
            ],
            [
             1,
             "#f0f921"
            ]
           ],
           "sequentialminus": [
            [
             0,
             "#0d0887"
            ],
            [
             0.1111111111111111,
             "#46039f"
            ],
            [
             0.2222222222222222,
             "#7201a8"
            ],
            [
             0.3333333333333333,
             "#9c179e"
            ],
            [
             0.4444444444444444,
             "#bd3786"
            ],
            [
             0.5555555555555556,
             "#d8576b"
            ],
            [
             0.6666666666666666,
             "#ed7953"
            ],
            [
             0.7777777777777778,
             "#fb9f3a"
            ],
            [
             0.8888888888888888,
             "#fdca26"
            ],
            [
             1,
             "#f0f921"
            ]
           ]
          },
          "colorway": [
           "#636efa",
           "#EF553B",
           "#00cc96",
           "#ab63fa",
           "#FFA15A",
           "#19d3f3",
           "#FF6692",
           "#B6E880",
           "#FF97FF",
           "#FECB52"
          ],
          "font": {
           "color": "#2a3f5f"
          },
          "geo": {
           "bgcolor": "white",
           "lakecolor": "white",
           "landcolor": "#E5ECF6",
           "showlakes": true,
           "showland": true,
           "subunitcolor": "white"
          },
          "hoverlabel": {
           "align": "left"
          },
          "hovermode": "closest",
          "mapbox": {
           "style": "light"
          },
          "paper_bgcolor": "white",
          "plot_bgcolor": "#E5ECF6",
          "polar": {
           "angularaxis": {
            "gridcolor": "white",
            "linecolor": "white",
            "ticks": ""
           },
           "bgcolor": "#E5ECF6",
           "radialaxis": {
            "gridcolor": "white",
            "linecolor": "white",
            "ticks": ""
           }
          },
          "scene": {
           "xaxis": {
            "backgroundcolor": "#E5ECF6",
            "gridcolor": "white",
            "gridwidth": 2,
            "linecolor": "white",
            "showbackground": true,
            "ticks": "",
            "zerolinecolor": "white"
           },
           "yaxis": {
            "backgroundcolor": "#E5ECF6",
            "gridcolor": "white",
            "gridwidth": 2,
            "linecolor": "white",
            "showbackground": true,
            "ticks": "",
            "zerolinecolor": "white"
           },
           "zaxis": {
            "backgroundcolor": "#E5ECF6",
            "gridcolor": "white",
            "gridwidth": 2,
            "linecolor": "white",
            "showbackground": true,
            "ticks": "",
            "zerolinecolor": "white"
           }
          },
          "shapedefaults": {
           "line": {
            "color": "#2a3f5f"
           }
          },
          "ternary": {
           "aaxis": {
            "gridcolor": "white",
            "linecolor": "white",
            "ticks": ""
           },
           "baxis": {
            "gridcolor": "white",
            "linecolor": "white",
            "ticks": ""
           },
           "bgcolor": "#E5ECF6",
           "caxis": {
            "gridcolor": "white",
            "linecolor": "white",
            "ticks": ""
           }
          },
          "title": {
           "x": 0.05
          },
          "xaxis": {
           "automargin": true,
           "gridcolor": "white",
           "linecolor": "white",
           "ticks": "",
           "title": {
            "standoff": 15
           },
           "zerolinecolor": "white",
           "zerolinewidth": 2
          },
          "yaxis": {
           "automargin": true,
           "gridcolor": "white",
           "linecolor": "white",
           "ticks": "",
           "title": {
            "standoff": 15
           },
           "zerolinecolor": "white",
           "zerolinewidth": 2
          }
         }
        },
        "width": 700
       }
      }
     },
     "metadata": {},
     "output_type": "display_data"
    },
    {
     "name": "stdout",
     "output_type": "stream",
     "text": [
      "Pair: 2\n"
     ]
    },
    {
     "data": {
      "application/vnd.plotly.v1+json": {
       "config": {
        "plotlyServerURL": "https://plot.ly"
       },
       "data": [
        {
         "marker": {
          "size": 5
         },
         "mode": "markers",
         "type": "scatter3d",
         "x": [
          -2.696298907142623,
          -1.7597759883063233,
          0.12345218928242829,
          -3.128158824463359,
          -4.4974208405772735
         ],
         "y": [
          13.800121401168312,
          13.669555905688291,
          13.419032370399341,
          13.401791659237695,
          13.144062623641753
         ],
         "z": [
          41.8323596361308,
          42.75894073072728,
          44.66268201415252,
          44.18560479567091,
          45.50182058232571
         ]
        },
        {
         "marker": {
          "color": "red",
          "size": 10
         },
         "mode": "markers",
         "name": "1",
         "type": "scatter3d",
         "x": [
          29.67975192615285
         ],
         "y": [
          -0.31433199289921293
         ],
         "z": [
          9.311834292333971
         ]
        },
        {
         "marker": {
          "color": "green",
          "size": 10
         },
         "mode": "markers",
         "name": "2",
         "type": "scatter3d",
         "x": [
          44.366032462639964
         ],
         "y": [
          -3.9555790205930434
         ],
         "z": [
          36.49181260311508
         ]
        },
        {
         "marker": {
          "color": "yellow",
          "size": 10
         },
         "mode": "markers",
         "name": "3",
         "type": "scatter3d",
         "x": [
          3.7675363304288076
         ],
         "y": [
          -0.31589201473447365
         ],
         "z": [
          -4.6757331561850375
         ]
        },
        {
         "marker": {
          "color": "black",
          "size": 4
         },
         "mode": "markers",
         "name": "wand",
         "type": "scatter3d",
         "x": [
          -2.670588219002024,
          -1.7358666510010146,
          0.1319034039040794,
          -3.1416672605464804,
          -4.541983644561736
         ],
         "y": [
          13.797863184489772,
          13.672069157818846,
          13.425077496788468,
          13.404856169503876,
          13.134697951534418
         ],
         "z": [
          41.81348929308904,
          42.75742892602597,
          44.643522018897116,
          44.16198253151127,
          45.56498498948385
         ]
        },
        {
         "line": {
          "color": "red",
          "width": 5
         },
         "mode": "lines+text",
         "type": "scatter3d",
         "x": [
          -1.7597759883063233,
          5.2423103484642795
         ],
         "y": [
          13.669555905688291,
          12.738076946122035
         ],
         "z": [
          42.75894073072728,
          49.83729745247392
         ]
        },
        {
         "line": {
          "color": "green",
          "width": 5
         },
         "mode": "lines+text",
         "type": "scatter3d",
         "x": [
          -1.7597759883063233,
          -1.4619600004920983
         ],
         "y": [
          13.669555905688291,
          3.803527195497118
         ],
         "z": [
          42.75894073072728,
          41.16601007458719
         ]
        },
        {
         "line": {
          "color": "blue",
          "width": 5
         },
         "mode": "lines+text",
         "type": "scatter3d",
         "x": [
          -1.7597759883063233,
          -8.760021388261025
         ],
         "y": [
          13.669555905688291,
          12.325852785357728
         ],
         "z": [
          42.75894073072728,
          49.77257219130653
         ]
        }
       ],
       "layout": {
        "margin": {
         "b": 10,
         "l": 10,
         "r": 20,
         "t": 10
        },
        "scene": {
         "xaxis": {
          "title": {
           "text": "X"
          }
         },
         "yaxis": {
          "title": {
           "text": "Y"
          }
         },
         "zaxis": {
          "title": {
           "text": "Z"
          }
         }
        },
        "template": {
         "data": {
          "bar": [
           {
            "error_x": {
             "color": "#2a3f5f"
            },
            "error_y": {
             "color": "#2a3f5f"
            },
            "marker": {
             "line": {
              "color": "#E5ECF6",
              "width": 0.5
             },
             "pattern": {
              "fillmode": "overlay",
              "size": 10,
              "solidity": 0.2
             }
            },
            "type": "bar"
           }
          ],
          "barpolar": [
           {
            "marker": {
             "line": {
              "color": "#E5ECF6",
              "width": 0.5
             },
             "pattern": {
              "fillmode": "overlay",
              "size": 10,
              "solidity": 0.2
             }
            },
            "type": "barpolar"
           }
          ],
          "carpet": [
           {
            "aaxis": {
             "endlinecolor": "#2a3f5f",
             "gridcolor": "white",
             "linecolor": "white",
             "minorgridcolor": "white",
             "startlinecolor": "#2a3f5f"
            },
            "baxis": {
             "endlinecolor": "#2a3f5f",
             "gridcolor": "white",
             "linecolor": "white",
             "minorgridcolor": "white",
             "startlinecolor": "#2a3f5f"
            },
            "type": "carpet"
           }
          ],
          "choropleth": [
           {
            "colorbar": {
             "outlinewidth": 0,
             "ticks": ""
            },
            "type": "choropleth"
           }
          ],
          "contour": [
           {
            "colorbar": {
             "outlinewidth": 0,
             "ticks": ""
            },
            "colorscale": [
             [
              0,
              "#0d0887"
             ],
             [
              0.1111111111111111,
              "#46039f"
             ],
             [
              0.2222222222222222,
              "#7201a8"
             ],
             [
              0.3333333333333333,
              "#9c179e"
             ],
             [
              0.4444444444444444,
              "#bd3786"
             ],
             [
              0.5555555555555556,
              "#d8576b"
             ],
             [
              0.6666666666666666,
              "#ed7953"
             ],
             [
              0.7777777777777778,
              "#fb9f3a"
             ],
             [
              0.8888888888888888,
              "#fdca26"
             ],
             [
              1,
              "#f0f921"
             ]
            ],
            "type": "contour"
           }
          ],
          "contourcarpet": [
           {
            "colorbar": {
             "outlinewidth": 0,
             "ticks": ""
            },
            "type": "contourcarpet"
           }
          ],
          "heatmap": [
           {
            "colorbar": {
             "outlinewidth": 0,
             "ticks": ""
            },
            "colorscale": [
             [
              0,
              "#0d0887"
             ],
             [
              0.1111111111111111,
              "#46039f"
             ],
             [
              0.2222222222222222,
              "#7201a8"
             ],
             [
              0.3333333333333333,
              "#9c179e"
             ],
             [
              0.4444444444444444,
              "#bd3786"
             ],
             [
              0.5555555555555556,
              "#d8576b"
             ],
             [
              0.6666666666666666,
              "#ed7953"
             ],
             [
              0.7777777777777778,
              "#fb9f3a"
             ],
             [
              0.8888888888888888,
              "#fdca26"
             ],
             [
              1,
              "#f0f921"
             ]
            ],
            "type": "heatmap"
           }
          ],
          "heatmapgl": [
           {
            "colorbar": {
             "outlinewidth": 0,
             "ticks": ""
            },
            "colorscale": [
             [
              0,
              "#0d0887"
             ],
             [
              0.1111111111111111,
              "#46039f"
             ],
             [
              0.2222222222222222,
              "#7201a8"
             ],
             [
              0.3333333333333333,
              "#9c179e"
             ],
             [
              0.4444444444444444,
              "#bd3786"
             ],
             [
              0.5555555555555556,
              "#d8576b"
             ],
             [
              0.6666666666666666,
              "#ed7953"
             ],
             [
              0.7777777777777778,
              "#fb9f3a"
             ],
             [
              0.8888888888888888,
              "#fdca26"
             ],
             [
              1,
              "#f0f921"
             ]
            ],
            "type": "heatmapgl"
           }
          ],
          "histogram": [
           {
            "marker": {
             "pattern": {
              "fillmode": "overlay",
              "size": 10,
              "solidity": 0.2
             }
            },
            "type": "histogram"
           }
          ],
          "histogram2d": [
           {
            "colorbar": {
             "outlinewidth": 0,
             "ticks": ""
            },
            "colorscale": [
             [
              0,
              "#0d0887"
             ],
             [
              0.1111111111111111,
              "#46039f"
             ],
             [
              0.2222222222222222,
              "#7201a8"
             ],
             [
              0.3333333333333333,
              "#9c179e"
             ],
             [
              0.4444444444444444,
              "#bd3786"
             ],
             [
              0.5555555555555556,
              "#d8576b"
             ],
             [
              0.6666666666666666,
              "#ed7953"
             ],
             [
              0.7777777777777778,
              "#fb9f3a"
             ],
             [
              0.8888888888888888,
              "#fdca26"
             ],
             [
              1,
              "#f0f921"
             ]
            ],
            "type": "histogram2d"
           }
          ],
          "histogram2dcontour": [
           {
            "colorbar": {
             "outlinewidth": 0,
             "ticks": ""
            },
            "colorscale": [
             [
              0,
              "#0d0887"
             ],
             [
              0.1111111111111111,
              "#46039f"
             ],
             [
              0.2222222222222222,
              "#7201a8"
             ],
             [
              0.3333333333333333,
              "#9c179e"
             ],
             [
              0.4444444444444444,
              "#bd3786"
             ],
             [
              0.5555555555555556,
              "#d8576b"
             ],
             [
              0.6666666666666666,
              "#ed7953"
             ],
             [
              0.7777777777777778,
              "#fb9f3a"
             ],
             [
              0.8888888888888888,
              "#fdca26"
             ],
             [
              1,
              "#f0f921"
             ]
            ],
            "type": "histogram2dcontour"
           }
          ],
          "mesh3d": [
           {
            "colorbar": {
             "outlinewidth": 0,
             "ticks": ""
            },
            "type": "mesh3d"
           }
          ],
          "parcoords": [
           {
            "line": {
             "colorbar": {
              "outlinewidth": 0,
              "ticks": ""
             }
            },
            "type": "parcoords"
           }
          ],
          "pie": [
           {
            "automargin": true,
            "type": "pie"
           }
          ],
          "scatter": [
           {
            "fillpattern": {
             "fillmode": "overlay",
             "size": 10,
             "solidity": 0.2
            },
            "type": "scatter"
           }
          ],
          "scatter3d": [
           {
            "line": {
             "colorbar": {
              "outlinewidth": 0,
              "ticks": ""
             }
            },
            "marker": {
             "colorbar": {
              "outlinewidth": 0,
              "ticks": ""
             }
            },
            "type": "scatter3d"
           }
          ],
          "scattercarpet": [
           {
            "marker": {
             "colorbar": {
              "outlinewidth": 0,
              "ticks": ""
             }
            },
            "type": "scattercarpet"
           }
          ],
          "scattergeo": [
           {
            "marker": {
             "colorbar": {
              "outlinewidth": 0,
              "ticks": ""
             }
            },
            "type": "scattergeo"
           }
          ],
          "scattergl": [
           {
            "marker": {
             "colorbar": {
              "outlinewidth": 0,
              "ticks": ""
             }
            },
            "type": "scattergl"
           }
          ],
          "scattermapbox": [
           {
            "marker": {
             "colorbar": {
              "outlinewidth": 0,
              "ticks": ""
             }
            },
            "type": "scattermapbox"
           }
          ],
          "scatterpolar": [
           {
            "marker": {
             "colorbar": {
              "outlinewidth": 0,
              "ticks": ""
             }
            },
            "type": "scatterpolar"
           }
          ],
          "scatterpolargl": [
           {
            "marker": {
             "colorbar": {
              "outlinewidth": 0,
              "ticks": ""
             }
            },
            "type": "scatterpolargl"
           }
          ],
          "scatterternary": [
           {
            "marker": {
             "colorbar": {
              "outlinewidth": 0,
              "ticks": ""
             }
            },
            "type": "scatterternary"
           }
          ],
          "surface": [
           {
            "colorbar": {
             "outlinewidth": 0,
             "ticks": ""
            },
            "colorscale": [
             [
              0,
              "#0d0887"
             ],
             [
              0.1111111111111111,
              "#46039f"
             ],
             [
              0.2222222222222222,
              "#7201a8"
             ],
             [
              0.3333333333333333,
              "#9c179e"
             ],
             [
              0.4444444444444444,
              "#bd3786"
             ],
             [
              0.5555555555555556,
              "#d8576b"
             ],
             [
              0.6666666666666666,
              "#ed7953"
             ],
             [
              0.7777777777777778,
              "#fb9f3a"
             ],
             [
              0.8888888888888888,
              "#fdca26"
             ],
             [
              1,
              "#f0f921"
             ]
            ],
            "type": "surface"
           }
          ],
          "table": [
           {
            "cells": {
             "fill": {
              "color": "#EBF0F8"
             },
             "line": {
              "color": "white"
             }
            },
            "header": {
             "fill": {
              "color": "#C8D4E3"
             },
             "line": {
              "color": "white"
             }
            },
            "type": "table"
           }
          ]
         },
         "layout": {
          "annotationdefaults": {
           "arrowcolor": "#2a3f5f",
           "arrowhead": 0,
           "arrowwidth": 1
          },
          "autotypenumbers": "strict",
          "coloraxis": {
           "colorbar": {
            "outlinewidth": 0,
            "ticks": ""
           }
          },
          "colorscale": {
           "diverging": [
            [
             0,
             "#8e0152"
            ],
            [
             0.1,
             "#c51b7d"
            ],
            [
             0.2,
             "#de77ae"
            ],
            [
             0.3,
             "#f1b6da"
            ],
            [
             0.4,
             "#fde0ef"
            ],
            [
             0.5,
             "#f7f7f7"
            ],
            [
             0.6,
             "#e6f5d0"
            ],
            [
             0.7,
             "#b8e186"
            ],
            [
             0.8,
             "#7fbc41"
            ],
            [
             0.9,
             "#4d9221"
            ],
            [
             1,
             "#276419"
            ]
           ],
           "sequential": [
            [
             0,
             "#0d0887"
            ],
            [
             0.1111111111111111,
             "#46039f"
            ],
            [
             0.2222222222222222,
             "#7201a8"
            ],
            [
             0.3333333333333333,
             "#9c179e"
            ],
            [
             0.4444444444444444,
             "#bd3786"
            ],
            [
             0.5555555555555556,
             "#d8576b"
            ],
            [
             0.6666666666666666,
             "#ed7953"
            ],
            [
             0.7777777777777778,
             "#fb9f3a"
            ],
            [
             0.8888888888888888,
             "#fdca26"
            ],
            [
             1,
             "#f0f921"
            ]
           ],
           "sequentialminus": [
            [
             0,
             "#0d0887"
            ],
            [
             0.1111111111111111,
             "#46039f"
            ],
            [
             0.2222222222222222,
             "#7201a8"
            ],
            [
             0.3333333333333333,
             "#9c179e"
            ],
            [
             0.4444444444444444,
             "#bd3786"
            ],
            [
             0.5555555555555556,
             "#d8576b"
            ],
            [
             0.6666666666666666,
             "#ed7953"
            ],
            [
             0.7777777777777778,
             "#fb9f3a"
            ],
            [
             0.8888888888888888,
             "#fdca26"
            ],
            [
             1,
             "#f0f921"
            ]
           ]
          },
          "colorway": [
           "#636efa",
           "#EF553B",
           "#00cc96",
           "#ab63fa",
           "#FFA15A",
           "#19d3f3",
           "#FF6692",
           "#B6E880",
           "#FF97FF",
           "#FECB52"
          ],
          "font": {
           "color": "#2a3f5f"
          },
          "geo": {
           "bgcolor": "white",
           "lakecolor": "white",
           "landcolor": "#E5ECF6",
           "showlakes": true,
           "showland": true,
           "subunitcolor": "white"
          },
          "hoverlabel": {
           "align": "left"
          },
          "hovermode": "closest",
          "mapbox": {
           "style": "light"
          },
          "paper_bgcolor": "white",
          "plot_bgcolor": "#E5ECF6",
          "polar": {
           "angularaxis": {
            "gridcolor": "white",
            "linecolor": "white",
            "ticks": ""
           },
           "bgcolor": "#E5ECF6",
           "radialaxis": {
            "gridcolor": "white",
            "linecolor": "white",
            "ticks": ""
           }
          },
          "scene": {
           "xaxis": {
            "backgroundcolor": "#E5ECF6",
            "gridcolor": "white",
            "gridwidth": 2,
            "linecolor": "white",
            "showbackground": true,
            "ticks": "",
            "zerolinecolor": "white"
           },
           "yaxis": {
            "backgroundcolor": "#E5ECF6",
            "gridcolor": "white",
            "gridwidth": 2,
            "linecolor": "white",
            "showbackground": true,
            "ticks": "",
            "zerolinecolor": "white"
           },
           "zaxis": {
            "backgroundcolor": "#E5ECF6",
            "gridcolor": "white",
            "gridwidth": 2,
            "linecolor": "white",
            "showbackground": true,
            "ticks": "",
            "zerolinecolor": "white"
           }
          },
          "shapedefaults": {
           "line": {
            "color": "#2a3f5f"
           }
          },
          "ternary": {
           "aaxis": {
            "gridcolor": "white",
            "linecolor": "white",
            "ticks": ""
           },
           "baxis": {
            "gridcolor": "white",
            "linecolor": "white",
            "ticks": ""
           },
           "bgcolor": "#E5ECF6",
           "caxis": {
            "gridcolor": "white",
            "linecolor": "white",
            "ticks": ""
           }
          },
          "title": {
           "x": 0.05
          },
          "xaxis": {
           "automargin": true,
           "gridcolor": "white",
           "linecolor": "white",
           "ticks": "",
           "title": {
            "standoff": 15
           },
           "zerolinecolor": "white",
           "zerolinewidth": 2
          },
          "yaxis": {
           "automargin": true,
           "gridcolor": "white",
           "linecolor": "white",
           "ticks": "",
           "title": {
            "standoff": 15
           },
           "zerolinecolor": "white",
           "zerolinewidth": 2
          }
         }
        },
        "width": 700
       }
      }
     },
     "metadata": {},
     "output_type": "display_data"
    },
    {
     "name": "stdout",
     "output_type": "stream",
     "text": [
      "Pair: 3\n"
     ]
    },
    {
     "data": {
      "application/vnd.plotly.v1+json": {
       "config": {
        "plotlyServerURL": "https://plot.ly"
       },
       "data": [
        {
         "marker": {
          "size": 5
         },
         "mode": "markers",
         "type": "scatter3d",
         "x": [
          -1.0689749933733275,
          -0.09013219295481889,
          1.915190961977565,
          1.2907120972801067,
          2.5615800628349703
         ],
         "y": [
          12.691252849304949,
          12.904308593756472,
          13.352487628588907,
          12.708498567804899,
          12.500057286815654
         ],
         "z": [
          44.854217869918834,
          43.98868388860773,
          42.253358016662,
          45.415031361010705,
          46.83459945311015
         ]
        },
        {
         "marker": {
          "color": "red",
          "size": 10
         },
         "mode": "markers",
         "name": "1",
         "type": "scatter3d",
         "x": [
          -28.211724251266396
         ],
         "y": [
          -2.180253783152425
         ],
         "z": [
          8.151077895062583
         ]
        },
        {
         "marker": {
          "color": "green",
          "size": 10
         },
         "mode": "markers",
         "name": "2",
         "type": "scatter3d",
         "x": [
          -0.17732238425092461
         ],
         "y": [
          2.1617484538350773
         ],
         "z": [
          -4.612779884633008
         ]
        },
        {
         "marker": {
          "color": "yellow",
          "size": 10
         },
         "mode": "markers",
         "name": "3",
         "type": "scatter3d",
         "x": [
          -43.15943557916437
         ],
         "y": [
          -9.226548672129868
         ],
         "z": [
          32.523410919113076
         ]
        },
        {
         "marker": {
          "color": "black",
          "size": 4
         },
         "mode": "markers",
         "name": "wand",
         "type": "scatter3d",
         "x": [
          -1.0856329339265969,
          -0.09094478687987007,
          1.8956327114375462,
          1.2663312211156779,
          2.6229897240177635
         ],
         "y": [
          12.689484897445924,
          12.910340891663408,
          13.355860307357446,
          12.704506505770775,
          12.496412324033315
         ],
         "z": [
          44.82698523808693,
          43.96537703396836,
          42.244348473190385,
          45.42684308191755,
          46.88233676214622
         ]
        },
        {
         "line": {
          "color": "red",
          "width": 5
         },
         "mode": "lines+text",
         "type": "scatter3d",
         "x": [
          -0.09013219295481889,
          7.365919087002208
         ],
         "y": [
          12.904308593756472,
          14.570696306925305
         ],
         "z": [
          43.98868388860773,
          37.536517484983975
         ]
        },
        {
         "line": {
          "color": "green",
          "width": 5
         },
         "mode": "lines+text",
         "type": "scatter3d",
         "x": [
          -0.09013219295481889,
          0.4555645175997364
         ],
         "y": [
          12.904308593756472,
          3.103567879591333
         ],
         "z": [
          43.98868388860773,
          42.088067803760275
         ]
        },
        {
         "line": {
          "color": "blue",
          "width": 5
         },
         "mode": "lines+text",
         "type": "scatter3d",
         "x": [
          -0.09013219295481889,
          6.690380810840323
         ],
         "y": [
          12.904308593756472,
          11.87062507944281
         ],
         "z": [
          43.98868388860773,
          51.265780960765085
         ]
        }
       ],
       "layout": {
        "margin": {
         "b": 10,
         "l": 10,
         "r": 20,
         "t": 10
        },
        "scene": {
         "xaxis": {
          "title": {
           "text": "X"
          }
         },
         "yaxis": {
          "title": {
           "text": "Y"
          }
         },
         "zaxis": {
          "title": {
           "text": "Z"
          }
         }
        },
        "template": {
         "data": {
          "bar": [
           {
            "error_x": {
             "color": "#2a3f5f"
            },
            "error_y": {
             "color": "#2a3f5f"
            },
            "marker": {
             "line": {
              "color": "#E5ECF6",
              "width": 0.5
             },
             "pattern": {
              "fillmode": "overlay",
              "size": 10,
              "solidity": 0.2
             }
            },
            "type": "bar"
           }
          ],
          "barpolar": [
           {
            "marker": {
             "line": {
              "color": "#E5ECF6",
              "width": 0.5
             },
             "pattern": {
              "fillmode": "overlay",
              "size": 10,
              "solidity": 0.2
             }
            },
            "type": "barpolar"
           }
          ],
          "carpet": [
           {
            "aaxis": {
             "endlinecolor": "#2a3f5f",
             "gridcolor": "white",
             "linecolor": "white",
             "minorgridcolor": "white",
             "startlinecolor": "#2a3f5f"
            },
            "baxis": {
             "endlinecolor": "#2a3f5f",
             "gridcolor": "white",
             "linecolor": "white",
             "minorgridcolor": "white",
             "startlinecolor": "#2a3f5f"
            },
            "type": "carpet"
           }
          ],
          "choropleth": [
           {
            "colorbar": {
             "outlinewidth": 0,
             "ticks": ""
            },
            "type": "choropleth"
           }
          ],
          "contour": [
           {
            "colorbar": {
             "outlinewidth": 0,
             "ticks": ""
            },
            "colorscale": [
             [
              0,
              "#0d0887"
             ],
             [
              0.1111111111111111,
              "#46039f"
             ],
             [
              0.2222222222222222,
              "#7201a8"
             ],
             [
              0.3333333333333333,
              "#9c179e"
             ],
             [
              0.4444444444444444,
              "#bd3786"
             ],
             [
              0.5555555555555556,
              "#d8576b"
             ],
             [
              0.6666666666666666,
              "#ed7953"
             ],
             [
              0.7777777777777778,
              "#fb9f3a"
             ],
             [
              0.8888888888888888,
              "#fdca26"
             ],
             [
              1,
              "#f0f921"
             ]
            ],
            "type": "contour"
           }
          ],
          "contourcarpet": [
           {
            "colorbar": {
             "outlinewidth": 0,
             "ticks": ""
            },
            "type": "contourcarpet"
           }
          ],
          "heatmap": [
           {
            "colorbar": {
             "outlinewidth": 0,
             "ticks": ""
            },
            "colorscale": [
             [
              0,
              "#0d0887"
             ],
             [
              0.1111111111111111,
              "#46039f"
             ],
             [
              0.2222222222222222,
              "#7201a8"
             ],
             [
              0.3333333333333333,
              "#9c179e"
             ],
             [
              0.4444444444444444,
              "#bd3786"
             ],
             [
              0.5555555555555556,
              "#d8576b"
             ],
             [
              0.6666666666666666,
              "#ed7953"
             ],
             [
              0.7777777777777778,
              "#fb9f3a"
             ],
             [
              0.8888888888888888,
              "#fdca26"
             ],
             [
              1,
              "#f0f921"
             ]
            ],
            "type": "heatmap"
           }
          ],
          "heatmapgl": [
           {
            "colorbar": {
             "outlinewidth": 0,
             "ticks": ""
            },
            "colorscale": [
             [
              0,
              "#0d0887"
             ],
             [
              0.1111111111111111,
              "#46039f"
             ],
             [
              0.2222222222222222,
              "#7201a8"
             ],
             [
              0.3333333333333333,
              "#9c179e"
             ],
             [
              0.4444444444444444,
              "#bd3786"
             ],
             [
              0.5555555555555556,
              "#d8576b"
             ],
             [
              0.6666666666666666,
              "#ed7953"
             ],
             [
              0.7777777777777778,
              "#fb9f3a"
             ],
             [
              0.8888888888888888,
              "#fdca26"
             ],
             [
              1,
              "#f0f921"
             ]
            ],
            "type": "heatmapgl"
           }
          ],
          "histogram": [
           {
            "marker": {
             "pattern": {
              "fillmode": "overlay",
              "size": 10,
              "solidity": 0.2
             }
            },
            "type": "histogram"
           }
          ],
          "histogram2d": [
           {
            "colorbar": {
             "outlinewidth": 0,
             "ticks": ""
            },
            "colorscale": [
             [
              0,
              "#0d0887"
             ],
             [
              0.1111111111111111,
              "#46039f"
             ],
             [
              0.2222222222222222,
              "#7201a8"
             ],
             [
              0.3333333333333333,
              "#9c179e"
             ],
             [
              0.4444444444444444,
              "#bd3786"
             ],
             [
              0.5555555555555556,
              "#d8576b"
             ],
             [
              0.6666666666666666,
              "#ed7953"
             ],
             [
              0.7777777777777778,
              "#fb9f3a"
             ],
             [
              0.8888888888888888,
              "#fdca26"
             ],
             [
              1,
              "#f0f921"
             ]
            ],
            "type": "histogram2d"
           }
          ],
          "histogram2dcontour": [
           {
            "colorbar": {
             "outlinewidth": 0,
             "ticks": ""
            },
            "colorscale": [
             [
              0,
              "#0d0887"
             ],
             [
              0.1111111111111111,
              "#46039f"
             ],
             [
              0.2222222222222222,
              "#7201a8"
             ],
             [
              0.3333333333333333,
              "#9c179e"
             ],
             [
              0.4444444444444444,
              "#bd3786"
             ],
             [
              0.5555555555555556,
              "#d8576b"
             ],
             [
              0.6666666666666666,
              "#ed7953"
             ],
             [
              0.7777777777777778,
              "#fb9f3a"
             ],
             [
              0.8888888888888888,
              "#fdca26"
             ],
             [
              1,
              "#f0f921"
             ]
            ],
            "type": "histogram2dcontour"
           }
          ],
          "mesh3d": [
           {
            "colorbar": {
             "outlinewidth": 0,
             "ticks": ""
            },
            "type": "mesh3d"
           }
          ],
          "parcoords": [
           {
            "line": {
             "colorbar": {
              "outlinewidth": 0,
              "ticks": ""
             }
            },
            "type": "parcoords"
           }
          ],
          "pie": [
           {
            "automargin": true,
            "type": "pie"
           }
          ],
          "scatter": [
           {
            "fillpattern": {
             "fillmode": "overlay",
             "size": 10,
             "solidity": 0.2
            },
            "type": "scatter"
           }
          ],
          "scatter3d": [
           {
            "line": {
             "colorbar": {
              "outlinewidth": 0,
              "ticks": ""
             }
            },
            "marker": {
             "colorbar": {
              "outlinewidth": 0,
              "ticks": ""
             }
            },
            "type": "scatter3d"
           }
          ],
          "scattercarpet": [
           {
            "marker": {
             "colorbar": {
              "outlinewidth": 0,
              "ticks": ""
             }
            },
            "type": "scattercarpet"
           }
          ],
          "scattergeo": [
           {
            "marker": {
             "colorbar": {
              "outlinewidth": 0,
              "ticks": ""
             }
            },
            "type": "scattergeo"
           }
          ],
          "scattergl": [
           {
            "marker": {
             "colorbar": {
              "outlinewidth": 0,
              "ticks": ""
             }
            },
            "type": "scattergl"
           }
          ],
          "scattermapbox": [
           {
            "marker": {
             "colorbar": {
              "outlinewidth": 0,
              "ticks": ""
             }
            },
            "type": "scattermapbox"
           }
          ],
          "scatterpolar": [
           {
            "marker": {
             "colorbar": {
              "outlinewidth": 0,
              "ticks": ""
             }
            },
            "type": "scatterpolar"
           }
          ],
          "scatterpolargl": [
           {
            "marker": {
             "colorbar": {
              "outlinewidth": 0,
              "ticks": ""
             }
            },
            "type": "scatterpolargl"
           }
          ],
          "scatterternary": [
           {
            "marker": {
             "colorbar": {
              "outlinewidth": 0,
              "ticks": ""
             }
            },
            "type": "scatterternary"
           }
          ],
          "surface": [
           {
            "colorbar": {
             "outlinewidth": 0,
             "ticks": ""
            },
            "colorscale": [
             [
              0,
              "#0d0887"
             ],
             [
              0.1111111111111111,
              "#46039f"
             ],
             [
              0.2222222222222222,
              "#7201a8"
             ],
             [
              0.3333333333333333,
              "#9c179e"
             ],
             [
              0.4444444444444444,
              "#bd3786"
             ],
             [
              0.5555555555555556,
              "#d8576b"
             ],
             [
              0.6666666666666666,
              "#ed7953"
             ],
             [
              0.7777777777777778,
              "#fb9f3a"
             ],
             [
              0.8888888888888888,
              "#fdca26"
             ],
             [
              1,
              "#f0f921"
             ]
            ],
            "type": "surface"
           }
          ],
          "table": [
           {
            "cells": {
             "fill": {
              "color": "#EBF0F8"
             },
             "line": {
              "color": "white"
             }
            },
            "header": {
             "fill": {
              "color": "#C8D4E3"
             },
             "line": {
              "color": "white"
             }
            },
            "type": "table"
           }
          ]
         },
         "layout": {
          "annotationdefaults": {
           "arrowcolor": "#2a3f5f",
           "arrowhead": 0,
           "arrowwidth": 1
          },
          "autotypenumbers": "strict",
          "coloraxis": {
           "colorbar": {
            "outlinewidth": 0,
            "ticks": ""
           }
          },
          "colorscale": {
           "diverging": [
            [
             0,
             "#8e0152"
            ],
            [
             0.1,
             "#c51b7d"
            ],
            [
             0.2,
             "#de77ae"
            ],
            [
             0.3,
             "#f1b6da"
            ],
            [
             0.4,
             "#fde0ef"
            ],
            [
             0.5,
             "#f7f7f7"
            ],
            [
             0.6,
             "#e6f5d0"
            ],
            [
             0.7,
             "#b8e186"
            ],
            [
             0.8,
             "#7fbc41"
            ],
            [
             0.9,
             "#4d9221"
            ],
            [
             1,
             "#276419"
            ]
           ],
           "sequential": [
            [
             0,
             "#0d0887"
            ],
            [
             0.1111111111111111,
             "#46039f"
            ],
            [
             0.2222222222222222,
             "#7201a8"
            ],
            [
             0.3333333333333333,
             "#9c179e"
            ],
            [
             0.4444444444444444,
             "#bd3786"
            ],
            [
             0.5555555555555556,
             "#d8576b"
            ],
            [
             0.6666666666666666,
             "#ed7953"
            ],
            [
             0.7777777777777778,
             "#fb9f3a"
            ],
            [
             0.8888888888888888,
             "#fdca26"
            ],
            [
             1,
             "#f0f921"
            ]
           ],
           "sequentialminus": [
            [
             0,
             "#0d0887"
            ],
            [
             0.1111111111111111,
             "#46039f"
            ],
            [
             0.2222222222222222,
             "#7201a8"
            ],
            [
             0.3333333333333333,
             "#9c179e"
            ],
            [
             0.4444444444444444,
             "#bd3786"
            ],
            [
             0.5555555555555556,
             "#d8576b"
            ],
            [
             0.6666666666666666,
             "#ed7953"
            ],
            [
             0.7777777777777778,
             "#fb9f3a"
            ],
            [
             0.8888888888888888,
             "#fdca26"
            ],
            [
             1,
             "#f0f921"
            ]
           ]
          },
          "colorway": [
           "#636efa",
           "#EF553B",
           "#00cc96",
           "#ab63fa",
           "#FFA15A",
           "#19d3f3",
           "#FF6692",
           "#B6E880",
           "#FF97FF",
           "#FECB52"
          ],
          "font": {
           "color": "#2a3f5f"
          },
          "geo": {
           "bgcolor": "white",
           "lakecolor": "white",
           "landcolor": "#E5ECF6",
           "showlakes": true,
           "showland": true,
           "subunitcolor": "white"
          },
          "hoverlabel": {
           "align": "left"
          },
          "hovermode": "closest",
          "mapbox": {
           "style": "light"
          },
          "paper_bgcolor": "white",
          "plot_bgcolor": "#E5ECF6",
          "polar": {
           "angularaxis": {
            "gridcolor": "white",
            "linecolor": "white",
            "ticks": ""
           },
           "bgcolor": "#E5ECF6",
           "radialaxis": {
            "gridcolor": "white",
            "linecolor": "white",
            "ticks": ""
           }
          },
          "scene": {
           "xaxis": {
            "backgroundcolor": "#E5ECF6",
            "gridcolor": "white",
            "gridwidth": 2,
            "linecolor": "white",
            "showbackground": true,
            "ticks": "",
            "zerolinecolor": "white"
           },
           "yaxis": {
            "backgroundcolor": "#E5ECF6",
            "gridcolor": "white",
            "gridwidth": 2,
            "linecolor": "white",
            "showbackground": true,
            "ticks": "",
            "zerolinecolor": "white"
           },
           "zaxis": {
            "backgroundcolor": "#E5ECF6",
            "gridcolor": "white",
            "gridwidth": 2,
            "linecolor": "white",
            "showbackground": true,
            "ticks": "",
            "zerolinecolor": "white"
           }
          },
          "shapedefaults": {
           "line": {
            "color": "#2a3f5f"
           }
          },
          "ternary": {
           "aaxis": {
            "gridcolor": "white",
            "linecolor": "white",
            "ticks": ""
           },
           "baxis": {
            "gridcolor": "white",
            "linecolor": "white",
            "ticks": ""
           },
           "bgcolor": "#E5ECF6",
           "caxis": {
            "gridcolor": "white",
            "linecolor": "white",
            "ticks": ""
           }
          },
          "title": {
           "x": 0.05
          },
          "xaxis": {
           "automargin": true,
           "gridcolor": "white",
           "linecolor": "white",
           "ticks": "",
           "title": {
            "standoff": 15
           },
           "zerolinecolor": "white",
           "zerolinewidth": 2
          },
          "yaxis": {
           "automargin": true,
           "gridcolor": "white",
           "linecolor": "white",
           "ticks": "",
           "title": {
            "standoff": 15
           },
           "zerolinecolor": "white",
           "zerolinewidth": 2
          }
         }
        },
        "width": 700
       }
      }
     },
     "metadata": {},
     "output_type": "display_data"
    },
    {
     "data": {
      "application/vnd.plotly.v1+json": {
       "config": {
        "plotlyServerURL": "https://plot.ly"
       },
       "data": [
        {
         "marker": {
          "size": 8
         },
         "mode": "markers",
         "type": "scatter3d",
         "x": [
          2.202863885668002,
          0.8312530177618479,
          -1.8180604699220837,
          0.7660149794322092,
          0.7323764542615446
         ],
         "y": [
          14.452684332095496,
          14.447399924517743,
          14.448033843989348,
          14.731851183790772,
          15.014232727673772
         ],
         "z": [
          44.88224452967651,
          44.89506854693421,
          44.97226690067035,
          42.816051698270314,
          40.79533975539195
         ]
        },
        {
         "marker": {
          "color": "red",
          "size": 10
         },
         "mode": "markers",
         "name": "1",
         "type": "scatter3d",
         "x": [
          0
         ],
         "y": [
          0
         ],
         "z": [
          0
         ]
        },
        {
         "marker": {
          "color": "green",
          "size": 10
         },
         "mode": "markers",
         "name": "2",
         "type": "scatter3d",
         "x": [
          -29.263660951629973
         ],
         "y": [
          -1.2430463557981564
         ],
         "z": [
          12.072864806071387
         ]
        },
        {
         "marker": {
          "color": "yellow",
          "size": 10
         },
         "mode": "markers",
         "name": "3",
         "type": "scatter3d",
         "x": [
          26.897927205869554
         ],
         "y": [
          -1.317557772679479
         ],
         "z": [
          9.272367323722692
         ]
        },
        {
         "line": {
          "color": "red",
          "width": 5
         },
         "mode": "lines+text",
         "type": "scatter3d",
         "x": [
          0,
          10
         ],
         "y": [
          0,
          0
         ],
         "z": [
          0,
          0
         ]
        },
        {
         "line": {
          "color": "green",
          "width": 5
         },
         "mode": "lines+text",
         "type": "scatter3d",
         "x": [
          0,
          0
         ],
         "y": [
          0,
          10
         ],
         "z": [
          0,
          0
         ]
        },
        {
         "line": {
          "color": "blue",
          "width": 5
         },
         "mode": "lines+text",
         "type": "scatter3d",
         "x": [
          0,
          0
         ],
         "y": [
          0,
          0
         ],
         "z": [
          0,
          10
         ]
        },
        {
         "line": {
          "color": "red",
          "width": 5
         },
         "mode": "lines+text",
         "type": "scatter3d",
         "x": [
          -29.263660951629973,
          -22.223609960344774
         ],
         "y": [
          -1.2430463557981564,
          -0.08177576638703976
         ],
         "z": [
          12.072864806071387,
          5.066501080266604
         ]
        },
        {
         "line": {
          "color": "green",
          "width": 5
         },
         "mode": "lines+text",
         "type": "scatter3d",
         "x": [
          -29.263660951629973,
          -30.21572052868094
         ],
         "y": [
          -1.2430463557981564,
          8.687634089175868
         ],
         "z": [
          12.072864806071387,
          12.762189447699729
         ]
        },
        {
         "line": {
          "color": "blue",
          "width": 5
         },
         "mode": "lines+text",
         "type": "scatter3d",
         "x": [
          -29.263660951629973,
          -22.225815784119547
         ],
         "y": [
          -1.2430463557981564,
          -1.061286849913954
         ],
         "z": [
          12.072864806071387,
          19.174674355768623
         ]
        },
        {
         "line": {
          "color": "red",
          "width": 5
         },
         "mode": "lines+text",
         "type": "scatter3d",
         "x": [
          26.897927205869554,
          34.006067298142796
         ],
         "y": [
          -1.317557772679479,
          -2.8057762054323563
         ],
         "z": [
          9.272367323722692,
          16.14692551498359
         ]
        },
        {
         "line": {
          "color": "green",
          "width": 5
         },
         "mode": "lines+text",
         "type": "scatter3d",
         "x": [
          26.897927205869554,
          27.953263323296834
         ],
         "y": [
          -1.317557772679479,
          8.571061197091227
         ],
         "z": [
          9.272367323722692,
          10.321881759042405
         ]
        },
        {
         "line": {
          "color": "blue",
          "width": 5
         },
         "mode": "lines+text",
         "type": "scatter3d",
         "x": [
          26.897927205869554,
          19.94374787917174
         ],
         "y": [
          -1.317557772679479,
          -1.3380703811317172
         ],
         "z": [
          9.272367323722692,
          16.458393285617294
         ]
        },
        {
         "line": {
          "color": "red",
          "width": 5
         },
         "mode": "lines+text",
         "type": "scatter3d",
         "x": [
          0.8312530177618479,
          -9.164503990459513
         ],
         "y": [
          14.447399924517743,
          14.449791678091037
         ],
         "z": [
          44.89506854693421,
          45.18633494065032
         ]
        },
        {
         "line": {
          "color": "green",
          "width": 5
         },
         "mode": "lines+text",
         "type": "scatter3d",
         "x": [
          0.8312530177618479,
          0.7890045387164574
         ],
         "y": [
          14.447399924517743,
          4.541702607144899
         ],
         "z": [
          44.89506854693421,
          43.52651538683851
         ]
        },
        {
         "line": {
          "color": "blue",
          "width": 5
         },
         "mode": "lines+text",
         "type": "scatter3d",
         "x": [
          0.8312530177618479,
          0.5924155282454726
         ],
         "y": [
          14.447399924517743,
          15.81659115536893
         ],
         "z": [
          44.89506854693421,
          34.99212595258572
         ]
        }
       ],
       "layout": {
        "margin": {
         "b": 10,
         "l": 10,
         "r": 20,
         "t": 10
        },
        "scene": {
         "xaxis": {
          "title": {
           "text": "X"
          }
         },
         "yaxis": {
          "title": {
           "text": "Y"
          }
         },
         "zaxis": {
          "title": {
           "text": "Z"
          }
         }
        },
        "template": {
         "data": {
          "bar": [
           {
            "error_x": {
             "color": "#2a3f5f"
            },
            "error_y": {
             "color": "#2a3f5f"
            },
            "marker": {
             "line": {
              "color": "#E5ECF6",
              "width": 0.5
             },
             "pattern": {
              "fillmode": "overlay",
              "size": 10,
              "solidity": 0.2
             }
            },
            "type": "bar"
           }
          ],
          "barpolar": [
           {
            "marker": {
             "line": {
              "color": "#E5ECF6",
              "width": 0.5
             },
             "pattern": {
              "fillmode": "overlay",
              "size": 10,
              "solidity": 0.2
             }
            },
            "type": "barpolar"
           }
          ],
          "carpet": [
           {
            "aaxis": {
             "endlinecolor": "#2a3f5f",
             "gridcolor": "white",
             "linecolor": "white",
             "minorgridcolor": "white",
             "startlinecolor": "#2a3f5f"
            },
            "baxis": {
             "endlinecolor": "#2a3f5f",
             "gridcolor": "white",
             "linecolor": "white",
             "minorgridcolor": "white",
             "startlinecolor": "#2a3f5f"
            },
            "type": "carpet"
           }
          ],
          "choropleth": [
           {
            "colorbar": {
             "outlinewidth": 0,
             "ticks": ""
            },
            "type": "choropleth"
           }
          ],
          "contour": [
           {
            "colorbar": {
             "outlinewidth": 0,
             "ticks": ""
            },
            "colorscale": [
             [
              0,
              "#0d0887"
             ],
             [
              0.1111111111111111,
              "#46039f"
             ],
             [
              0.2222222222222222,
              "#7201a8"
             ],
             [
              0.3333333333333333,
              "#9c179e"
             ],
             [
              0.4444444444444444,
              "#bd3786"
             ],
             [
              0.5555555555555556,
              "#d8576b"
             ],
             [
              0.6666666666666666,
              "#ed7953"
             ],
             [
              0.7777777777777778,
              "#fb9f3a"
             ],
             [
              0.8888888888888888,
              "#fdca26"
             ],
             [
              1,
              "#f0f921"
             ]
            ],
            "type": "contour"
           }
          ],
          "contourcarpet": [
           {
            "colorbar": {
             "outlinewidth": 0,
             "ticks": ""
            },
            "type": "contourcarpet"
           }
          ],
          "heatmap": [
           {
            "colorbar": {
             "outlinewidth": 0,
             "ticks": ""
            },
            "colorscale": [
             [
              0,
              "#0d0887"
             ],
             [
              0.1111111111111111,
              "#46039f"
             ],
             [
              0.2222222222222222,
              "#7201a8"
             ],
             [
              0.3333333333333333,
              "#9c179e"
             ],
             [
              0.4444444444444444,
              "#bd3786"
             ],
             [
              0.5555555555555556,
              "#d8576b"
             ],
             [
              0.6666666666666666,
              "#ed7953"
             ],
             [
              0.7777777777777778,
              "#fb9f3a"
             ],
             [
              0.8888888888888888,
              "#fdca26"
             ],
             [
              1,
              "#f0f921"
             ]
            ],
            "type": "heatmap"
           }
          ],
          "heatmapgl": [
           {
            "colorbar": {
             "outlinewidth": 0,
             "ticks": ""
            },
            "colorscale": [
             [
              0,
              "#0d0887"
             ],
             [
              0.1111111111111111,
              "#46039f"
             ],
             [
              0.2222222222222222,
              "#7201a8"
             ],
             [
              0.3333333333333333,
              "#9c179e"
             ],
             [
              0.4444444444444444,
              "#bd3786"
             ],
             [
              0.5555555555555556,
              "#d8576b"
             ],
             [
              0.6666666666666666,
              "#ed7953"
             ],
             [
              0.7777777777777778,
              "#fb9f3a"
             ],
             [
              0.8888888888888888,
              "#fdca26"
             ],
             [
              1,
              "#f0f921"
             ]
            ],
            "type": "heatmapgl"
           }
          ],
          "histogram": [
           {
            "marker": {
             "pattern": {
              "fillmode": "overlay",
              "size": 10,
              "solidity": 0.2
             }
            },
            "type": "histogram"
           }
          ],
          "histogram2d": [
           {
            "colorbar": {
             "outlinewidth": 0,
             "ticks": ""
            },
            "colorscale": [
             [
              0,
              "#0d0887"
             ],
             [
              0.1111111111111111,
              "#46039f"
             ],
             [
              0.2222222222222222,
              "#7201a8"
             ],
             [
              0.3333333333333333,
              "#9c179e"
             ],
             [
              0.4444444444444444,
              "#bd3786"
             ],
             [
              0.5555555555555556,
              "#d8576b"
             ],
             [
              0.6666666666666666,
              "#ed7953"
             ],
             [
              0.7777777777777778,
              "#fb9f3a"
             ],
             [
              0.8888888888888888,
              "#fdca26"
             ],
             [
              1,
              "#f0f921"
             ]
            ],
            "type": "histogram2d"
           }
          ],
          "histogram2dcontour": [
           {
            "colorbar": {
             "outlinewidth": 0,
             "ticks": ""
            },
            "colorscale": [
             [
              0,
              "#0d0887"
             ],
             [
              0.1111111111111111,
              "#46039f"
             ],
             [
              0.2222222222222222,
              "#7201a8"
             ],
             [
              0.3333333333333333,
              "#9c179e"
             ],
             [
              0.4444444444444444,
              "#bd3786"
             ],
             [
              0.5555555555555556,
              "#d8576b"
             ],
             [
              0.6666666666666666,
              "#ed7953"
             ],
             [
              0.7777777777777778,
              "#fb9f3a"
             ],
             [
              0.8888888888888888,
              "#fdca26"
             ],
             [
              1,
              "#f0f921"
             ]
            ],
            "type": "histogram2dcontour"
           }
          ],
          "mesh3d": [
           {
            "colorbar": {
             "outlinewidth": 0,
             "ticks": ""
            },
            "type": "mesh3d"
           }
          ],
          "parcoords": [
           {
            "line": {
             "colorbar": {
              "outlinewidth": 0,
              "ticks": ""
             }
            },
            "type": "parcoords"
           }
          ],
          "pie": [
           {
            "automargin": true,
            "type": "pie"
           }
          ],
          "scatter": [
           {
            "fillpattern": {
             "fillmode": "overlay",
             "size": 10,
             "solidity": 0.2
            },
            "type": "scatter"
           }
          ],
          "scatter3d": [
           {
            "line": {
             "colorbar": {
              "outlinewidth": 0,
              "ticks": ""
             }
            },
            "marker": {
             "colorbar": {
              "outlinewidth": 0,
              "ticks": ""
             }
            },
            "type": "scatter3d"
           }
          ],
          "scattercarpet": [
           {
            "marker": {
             "colorbar": {
              "outlinewidth": 0,
              "ticks": ""
             }
            },
            "type": "scattercarpet"
           }
          ],
          "scattergeo": [
           {
            "marker": {
             "colorbar": {
              "outlinewidth": 0,
              "ticks": ""
             }
            },
            "type": "scattergeo"
           }
          ],
          "scattergl": [
           {
            "marker": {
             "colorbar": {
              "outlinewidth": 0,
              "ticks": ""
             }
            },
            "type": "scattergl"
           }
          ],
          "scattermapbox": [
           {
            "marker": {
             "colorbar": {
              "outlinewidth": 0,
              "ticks": ""
             }
            },
            "type": "scattermapbox"
           }
          ],
          "scatterpolar": [
           {
            "marker": {
             "colorbar": {
              "outlinewidth": 0,
              "ticks": ""
             }
            },
            "type": "scatterpolar"
           }
          ],
          "scatterpolargl": [
           {
            "marker": {
             "colorbar": {
              "outlinewidth": 0,
              "ticks": ""
             }
            },
            "type": "scatterpolargl"
           }
          ],
          "scatterternary": [
           {
            "marker": {
             "colorbar": {
              "outlinewidth": 0,
              "ticks": ""
             }
            },
            "type": "scatterternary"
           }
          ],
          "surface": [
           {
            "colorbar": {
             "outlinewidth": 0,
             "ticks": ""
            },
            "colorscale": [
             [
              0,
              "#0d0887"
             ],
             [
              0.1111111111111111,
              "#46039f"
             ],
             [
              0.2222222222222222,
              "#7201a8"
             ],
             [
              0.3333333333333333,
              "#9c179e"
             ],
             [
              0.4444444444444444,
              "#bd3786"
             ],
             [
              0.5555555555555556,
              "#d8576b"
             ],
             [
              0.6666666666666666,
              "#ed7953"
             ],
             [
              0.7777777777777778,
              "#fb9f3a"
             ],
             [
              0.8888888888888888,
              "#fdca26"
             ],
             [
              1,
              "#f0f921"
             ]
            ],
            "type": "surface"
           }
          ],
          "table": [
           {
            "cells": {
             "fill": {
              "color": "#EBF0F8"
             },
             "line": {
              "color": "white"
             }
            },
            "header": {
             "fill": {
              "color": "#C8D4E3"
             },
             "line": {
              "color": "white"
             }
            },
            "type": "table"
           }
          ]
         },
         "layout": {
          "annotationdefaults": {
           "arrowcolor": "#2a3f5f",
           "arrowhead": 0,
           "arrowwidth": 1
          },
          "autotypenumbers": "strict",
          "coloraxis": {
           "colorbar": {
            "outlinewidth": 0,
            "ticks": ""
           }
          },
          "colorscale": {
           "diverging": [
            [
             0,
             "#8e0152"
            ],
            [
             0.1,
             "#c51b7d"
            ],
            [
             0.2,
             "#de77ae"
            ],
            [
             0.3,
             "#f1b6da"
            ],
            [
             0.4,
             "#fde0ef"
            ],
            [
             0.5,
             "#f7f7f7"
            ],
            [
             0.6,
             "#e6f5d0"
            ],
            [
             0.7,
             "#b8e186"
            ],
            [
             0.8,
             "#7fbc41"
            ],
            [
             0.9,
             "#4d9221"
            ],
            [
             1,
             "#276419"
            ]
           ],
           "sequential": [
            [
             0,
             "#0d0887"
            ],
            [
             0.1111111111111111,
             "#46039f"
            ],
            [
             0.2222222222222222,
             "#7201a8"
            ],
            [
             0.3333333333333333,
             "#9c179e"
            ],
            [
             0.4444444444444444,
             "#bd3786"
            ],
            [
             0.5555555555555556,
             "#d8576b"
            ],
            [
             0.6666666666666666,
             "#ed7953"
            ],
            [
             0.7777777777777778,
             "#fb9f3a"
            ],
            [
             0.8888888888888888,
             "#fdca26"
            ],
            [
             1,
             "#f0f921"
            ]
           ],
           "sequentialminus": [
            [
             0,
             "#0d0887"
            ],
            [
             0.1111111111111111,
             "#46039f"
            ],
            [
             0.2222222222222222,
             "#7201a8"
            ],
            [
             0.3333333333333333,
             "#9c179e"
            ],
            [
             0.4444444444444444,
             "#bd3786"
            ],
            [
             0.5555555555555556,
             "#d8576b"
            ],
            [
             0.6666666666666666,
             "#ed7953"
            ],
            [
             0.7777777777777778,
             "#fb9f3a"
            ],
            [
             0.8888888888888888,
             "#fdca26"
            ],
            [
             1,
             "#f0f921"
            ]
           ]
          },
          "colorway": [
           "#636efa",
           "#EF553B",
           "#00cc96",
           "#ab63fa",
           "#FFA15A",
           "#19d3f3",
           "#FF6692",
           "#B6E880",
           "#FF97FF",
           "#FECB52"
          ],
          "font": {
           "color": "#2a3f5f"
          },
          "geo": {
           "bgcolor": "white",
           "lakecolor": "white",
           "landcolor": "#E5ECF6",
           "showlakes": true,
           "showland": true,
           "subunitcolor": "white"
          },
          "hoverlabel": {
           "align": "left"
          },
          "hovermode": "closest",
          "mapbox": {
           "style": "light"
          },
          "paper_bgcolor": "white",
          "plot_bgcolor": "#E5ECF6",
          "polar": {
           "angularaxis": {
            "gridcolor": "white",
            "linecolor": "white",
            "ticks": ""
           },
           "bgcolor": "#E5ECF6",
           "radialaxis": {
            "gridcolor": "white",
            "linecolor": "white",
            "ticks": ""
           }
          },
          "scene": {
           "xaxis": {
            "backgroundcolor": "#E5ECF6",
            "gridcolor": "white",
            "gridwidth": 2,
            "linecolor": "white",
            "showbackground": true,
            "ticks": "",
            "zerolinecolor": "white"
           },
           "yaxis": {
            "backgroundcolor": "#E5ECF6",
            "gridcolor": "white",
            "gridwidth": 2,
            "linecolor": "white",
            "showbackground": true,
            "ticks": "",
            "zerolinecolor": "white"
           },
           "zaxis": {
            "backgroundcolor": "#E5ECF6",
            "gridcolor": "white",
            "gridwidth": 2,
            "linecolor": "white",
            "showbackground": true,
            "ticks": "",
            "zerolinecolor": "white"
           }
          },
          "shapedefaults": {
           "line": {
            "color": "#2a3f5f"
           }
          },
          "ternary": {
           "aaxis": {
            "gridcolor": "white",
            "linecolor": "white",
            "ticks": ""
           },
           "baxis": {
            "gridcolor": "white",
            "linecolor": "white",
            "ticks": ""
           },
           "bgcolor": "#E5ECF6",
           "caxis": {
            "gridcolor": "white",
            "linecolor": "white",
            "ticks": ""
           }
          },
          "title": {
           "x": 0.05
          },
          "xaxis": {
           "automargin": true,
           "gridcolor": "white",
           "linecolor": "white",
           "ticks": "",
           "title": {
            "standoff": 15
           },
           "zerolinecolor": "white",
           "zerolinewidth": 2
          },
          "yaxis": {
           "automargin": true,
           "gridcolor": "white",
           "linecolor": "white",
           "ticks": "",
           "title": {
            "standoff": 15
           },
           "zerolinecolor": "white",
           "zerolinewidth": 2
          }
         }
        },
        "width": 700
       }
      }
     },
     "metadata": {},
     "output_type": "display_data"
    },
    {
     "name": "stdout",
     "output_type": "stream",
     "text": [
      "Main: 6\n"
     ]
    },
    {
     "data": {
      "application/vnd.plotly.v1+json": {
       "config": {
        "plotlyServerURL": "https://plot.ly"
       },
       "data": [
        {
         "marker": {
          "size": 5
         },
         "mode": "markers",
         "type": "scatter3d",
         "x": [
          2.202863885668002,
          0.8312530177618479,
          -1.8180604699220837,
          0.7660149794322092,
          0.7323764542615446
         ],
         "y": [
          14.452684332095496,
          14.447399924517743,
          14.448033843989348,
          14.731851183790772,
          15.014232727673772
         ],
         "z": [
          44.88224452967651,
          44.89506854693421,
          44.97226690067035,
          42.816051698270314,
          40.79533975539195
         ]
        },
        {
         "marker": {
          "color": "red",
          "size": 10
         },
         "mode": "markers",
         "name": "1",
         "type": "scatter3d",
         "x": [
          0
         ],
         "y": [
          0
         ],
         "z": [
          0
         ]
        },
        {
         "marker": {
          "color": "green",
          "size": 10
         },
         "mode": "markers",
         "name": "2",
         "type": "scatter3d",
         "x": [
          -29.263660951629973
         ],
         "y": [
          -1.2430463557981564
         ],
         "z": [
          12.072864806071387
         ]
        },
        {
         "marker": {
          "color": "yellow",
          "size": 10
         },
         "mode": "markers",
         "name": "3",
         "type": "scatter3d",
         "x": [
          26.897927205869554
         ],
         "y": [
          -1.317557772679479
         ],
         "z": [
          9.272367323722692
         ]
        },
        {
         "marker": {
          "color": "black",
          "size": 4
         },
         "mode": "markers",
         "name": "wand",
         "type": "scatter3d",
         "x": [
          2.170432007171816,
          0.8366221794123146,
          -1.8281132653674117,
          0.7917116639386879,
          0.7437952820461129
         ],
         "y": [
          14.454468448570298,
          14.453154292709025,
          14.454697981376814,
          14.729649773791703,
          15.002231515619314
         ],
         "z": [
          44.81549866149929,
          44.854614223854725,
          44.93399027465353,
          42.86910035495405,
          40.88776791598175
         ]
        },
        {
         "line": {
          "color": "red",
          "width": 5
         },
         "mode": "lines+text",
         "type": "scatter3d",
         "x": [
          0,
          10
         ],
         "y": [
          0,
          0
         ],
         "z": [
          0,
          0
         ]
        },
        {
         "line": {
          "color": "green",
          "width": 5
         },
         "mode": "lines+text",
         "type": "scatter3d",
         "x": [
          0,
          0
         ],
         "y": [
          0,
          10
         ],
         "z": [
          0,
          0
         ]
        },
        {
         "line": {
          "color": "blue",
          "width": 5
         },
         "mode": "lines+text",
         "type": "scatter3d",
         "x": [
          0,
          0
         ],
         "y": [
          0,
          0
         ],
         "z": [
          0,
          10
         ]
        },
        {
         "line": {
          "color": "red",
          "width": 5
         },
         "mode": "lines+text",
         "type": "scatter3d",
         "x": [
          -29.263660951629973,
          -22.223609960344774
         ],
         "y": [
          -1.2430463557981564,
          -0.08177576638703976
         ],
         "z": [
          12.072864806071387,
          5.066501080266604
         ]
        },
        {
         "line": {
          "color": "green",
          "width": 5
         },
         "mode": "lines+text",
         "type": "scatter3d",
         "x": [
          -29.263660951629973,
          -30.21572052868094
         ],
         "y": [
          -1.2430463557981564,
          8.687634089175868
         ],
         "z": [
          12.072864806071387,
          12.762189447699729
         ]
        },
        {
         "line": {
          "color": "blue",
          "width": 5
         },
         "mode": "lines+text",
         "type": "scatter3d",
         "x": [
          -29.263660951629973,
          -22.225815784119547
         ],
         "y": [
          -1.2430463557981564,
          -1.061286849913954
         ],
         "z": [
          12.072864806071387,
          19.174674355768623
         ]
        },
        {
         "line": {
          "color": "red",
          "width": 5
         },
         "mode": "lines+text",
         "type": "scatter3d",
         "x": [
          26.897927205869554,
          34.006067298142796
         ],
         "y": [
          -1.317557772679479,
          -2.8057762054323563
         ],
         "z": [
          9.272367323722692,
          16.14692551498359
         ]
        },
        {
         "line": {
          "color": "green",
          "width": 5
         },
         "mode": "lines+text",
         "type": "scatter3d",
         "x": [
          26.897927205869554,
          27.953263323296834
         ],
         "y": [
          -1.317557772679479,
          8.571061197091227
         ],
         "z": [
          9.272367323722692,
          10.321881759042405
         ]
        },
        {
         "line": {
          "color": "blue",
          "width": 5
         },
         "mode": "lines+text",
         "type": "scatter3d",
         "x": [
          26.897927205869554,
          19.94374787917174
         ],
         "y": [
          -1.317557772679479,
          -1.3380703811317172
         ],
         "z": [
          9.272367323722692,
          16.458393285617294
         ]
        },
        {
         "line": {
          "color": "red",
          "width": 5
         },
         "mode": "lines+text",
         "type": "scatter3d",
         "x": [
          0.8312530177618479,
          -9.164503990459513
         ],
         "y": [
          14.447399924517743,
          14.449791678091037
         ],
         "z": [
          44.89506854693421,
          45.18633494065032
         ]
        },
        {
         "line": {
          "color": "green",
          "width": 5
         },
         "mode": "lines+text",
         "type": "scatter3d",
         "x": [
          0.8312530177618479,
          0.7890045387164574
         ],
         "y": [
          14.447399924517743,
          4.541702607144899
         ],
         "z": [
          44.89506854693421,
          43.52651538683851
         ]
        },
        {
         "line": {
          "color": "blue",
          "width": 5
         },
         "mode": "lines+text",
         "type": "scatter3d",
         "x": [
          0.8312530177618479,
          0.5924155282454726
         ],
         "y": [
          14.447399924517743,
          15.81659115536893
         ],
         "z": [
          44.89506854693421,
          34.99212595258572
         ]
        }
       ],
       "layout": {
        "margin": {
         "b": 10,
         "l": 10,
         "r": 20,
         "t": 10
        },
        "scene": {
         "xaxis": {
          "title": {
           "text": "X"
          }
         },
         "yaxis": {
          "title": {
           "text": "Y"
          }
         },
         "zaxis": {
          "title": {
           "text": "Z"
          }
         }
        },
        "template": {
         "data": {
          "bar": [
           {
            "error_x": {
             "color": "#2a3f5f"
            },
            "error_y": {
             "color": "#2a3f5f"
            },
            "marker": {
             "line": {
              "color": "#E5ECF6",
              "width": 0.5
             },
             "pattern": {
              "fillmode": "overlay",
              "size": 10,
              "solidity": 0.2
             }
            },
            "type": "bar"
           }
          ],
          "barpolar": [
           {
            "marker": {
             "line": {
              "color": "#E5ECF6",
              "width": 0.5
             },
             "pattern": {
              "fillmode": "overlay",
              "size": 10,
              "solidity": 0.2
             }
            },
            "type": "barpolar"
           }
          ],
          "carpet": [
           {
            "aaxis": {
             "endlinecolor": "#2a3f5f",
             "gridcolor": "white",
             "linecolor": "white",
             "minorgridcolor": "white",
             "startlinecolor": "#2a3f5f"
            },
            "baxis": {
             "endlinecolor": "#2a3f5f",
             "gridcolor": "white",
             "linecolor": "white",
             "minorgridcolor": "white",
             "startlinecolor": "#2a3f5f"
            },
            "type": "carpet"
           }
          ],
          "choropleth": [
           {
            "colorbar": {
             "outlinewidth": 0,
             "ticks": ""
            },
            "type": "choropleth"
           }
          ],
          "contour": [
           {
            "colorbar": {
             "outlinewidth": 0,
             "ticks": ""
            },
            "colorscale": [
             [
              0,
              "#0d0887"
             ],
             [
              0.1111111111111111,
              "#46039f"
             ],
             [
              0.2222222222222222,
              "#7201a8"
             ],
             [
              0.3333333333333333,
              "#9c179e"
             ],
             [
              0.4444444444444444,
              "#bd3786"
             ],
             [
              0.5555555555555556,
              "#d8576b"
             ],
             [
              0.6666666666666666,
              "#ed7953"
             ],
             [
              0.7777777777777778,
              "#fb9f3a"
             ],
             [
              0.8888888888888888,
              "#fdca26"
             ],
             [
              1,
              "#f0f921"
             ]
            ],
            "type": "contour"
           }
          ],
          "contourcarpet": [
           {
            "colorbar": {
             "outlinewidth": 0,
             "ticks": ""
            },
            "type": "contourcarpet"
           }
          ],
          "heatmap": [
           {
            "colorbar": {
             "outlinewidth": 0,
             "ticks": ""
            },
            "colorscale": [
             [
              0,
              "#0d0887"
             ],
             [
              0.1111111111111111,
              "#46039f"
             ],
             [
              0.2222222222222222,
              "#7201a8"
             ],
             [
              0.3333333333333333,
              "#9c179e"
             ],
             [
              0.4444444444444444,
              "#bd3786"
             ],
             [
              0.5555555555555556,
              "#d8576b"
             ],
             [
              0.6666666666666666,
              "#ed7953"
             ],
             [
              0.7777777777777778,
              "#fb9f3a"
             ],
             [
              0.8888888888888888,
              "#fdca26"
             ],
             [
              1,
              "#f0f921"
             ]
            ],
            "type": "heatmap"
           }
          ],
          "heatmapgl": [
           {
            "colorbar": {
             "outlinewidth": 0,
             "ticks": ""
            },
            "colorscale": [
             [
              0,
              "#0d0887"
             ],
             [
              0.1111111111111111,
              "#46039f"
             ],
             [
              0.2222222222222222,
              "#7201a8"
             ],
             [
              0.3333333333333333,
              "#9c179e"
             ],
             [
              0.4444444444444444,
              "#bd3786"
             ],
             [
              0.5555555555555556,
              "#d8576b"
             ],
             [
              0.6666666666666666,
              "#ed7953"
             ],
             [
              0.7777777777777778,
              "#fb9f3a"
             ],
             [
              0.8888888888888888,
              "#fdca26"
             ],
             [
              1,
              "#f0f921"
             ]
            ],
            "type": "heatmapgl"
           }
          ],
          "histogram": [
           {
            "marker": {
             "pattern": {
              "fillmode": "overlay",
              "size": 10,
              "solidity": 0.2
             }
            },
            "type": "histogram"
           }
          ],
          "histogram2d": [
           {
            "colorbar": {
             "outlinewidth": 0,
             "ticks": ""
            },
            "colorscale": [
             [
              0,
              "#0d0887"
             ],
             [
              0.1111111111111111,
              "#46039f"
             ],
             [
              0.2222222222222222,
              "#7201a8"
             ],
             [
              0.3333333333333333,
              "#9c179e"
             ],
             [
              0.4444444444444444,
              "#bd3786"
             ],
             [
              0.5555555555555556,
              "#d8576b"
             ],
             [
              0.6666666666666666,
              "#ed7953"
             ],
             [
              0.7777777777777778,
              "#fb9f3a"
             ],
             [
              0.8888888888888888,
              "#fdca26"
             ],
             [
              1,
              "#f0f921"
             ]
            ],
            "type": "histogram2d"
           }
          ],
          "histogram2dcontour": [
           {
            "colorbar": {
             "outlinewidth": 0,
             "ticks": ""
            },
            "colorscale": [
             [
              0,
              "#0d0887"
             ],
             [
              0.1111111111111111,
              "#46039f"
             ],
             [
              0.2222222222222222,
              "#7201a8"
             ],
             [
              0.3333333333333333,
              "#9c179e"
             ],
             [
              0.4444444444444444,
              "#bd3786"
             ],
             [
              0.5555555555555556,
              "#d8576b"
             ],
             [
              0.6666666666666666,
              "#ed7953"
             ],
             [
              0.7777777777777778,
              "#fb9f3a"
             ],
             [
              0.8888888888888888,
              "#fdca26"
             ],
             [
              1,
              "#f0f921"
             ]
            ],
            "type": "histogram2dcontour"
           }
          ],
          "mesh3d": [
           {
            "colorbar": {
             "outlinewidth": 0,
             "ticks": ""
            },
            "type": "mesh3d"
           }
          ],
          "parcoords": [
           {
            "line": {
             "colorbar": {
              "outlinewidth": 0,
              "ticks": ""
             }
            },
            "type": "parcoords"
           }
          ],
          "pie": [
           {
            "automargin": true,
            "type": "pie"
           }
          ],
          "scatter": [
           {
            "fillpattern": {
             "fillmode": "overlay",
             "size": 10,
             "solidity": 0.2
            },
            "type": "scatter"
           }
          ],
          "scatter3d": [
           {
            "line": {
             "colorbar": {
              "outlinewidth": 0,
              "ticks": ""
             }
            },
            "marker": {
             "colorbar": {
              "outlinewidth": 0,
              "ticks": ""
             }
            },
            "type": "scatter3d"
           }
          ],
          "scattercarpet": [
           {
            "marker": {
             "colorbar": {
              "outlinewidth": 0,
              "ticks": ""
             }
            },
            "type": "scattercarpet"
           }
          ],
          "scattergeo": [
           {
            "marker": {
             "colorbar": {
              "outlinewidth": 0,
              "ticks": ""
             }
            },
            "type": "scattergeo"
           }
          ],
          "scattergl": [
           {
            "marker": {
             "colorbar": {
              "outlinewidth": 0,
              "ticks": ""
             }
            },
            "type": "scattergl"
           }
          ],
          "scattermapbox": [
           {
            "marker": {
             "colorbar": {
              "outlinewidth": 0,
              "ticks": ""
             }
            },
            "type": "scattermapbox"
           }
          ],
          "scatterpolar": [
           {
            "marker": {
             "colorbar": {
              "outlinewidth": 0,
              "ticks": ""
             }
            },
            "type": "scatterpolar"
           }
          ],
          "scatterpolargl": [
           {
            "marker": {
             "colorbar": {
              "outlinewidth": 0,
              "ticks": ""
             }
            },
            "type": "scatterpolargl"
           }
          ],
          "scatterternary": [
           {
            "marker": {
             "colorbar": {
              "outlinewidth": 0,
              "ticks": ""
             }
            },
            "type": "scatterternary"
           }
          ],
          "surface": [
           {
            "colorbar": {
             "outlinewidth": 0,
             "ticks": ""
            },
            "colorscale": [
             [
              0,
              "#0d0887"
             ],
             [
              0.1111111111111111,
              "#46039f"
             ],
             [
              0.2222222222222222,
              "#7201a8"
             ],
             [
              0.3333333333333333,
              "#9c179e"
             ],
             [
              0.4444444444444444,
              "#bd3786"
             ],
             [
              0.5555555555555556,
              "#d8576b"
             ],
             [
              0.6666666666666666,
              "#ed7953"
             ],
             [
              0.7777777777777778,
              "#fb9f3a"
             ],
             [
              0.8888888888888888,
              "#fdca26"
             ],
             [
              1,
              "#f0f921"
             ]
            ],
            "type": "surface"
           }
          ],
          "table": [
           {
            "cells": {
             "fill": {
              "color": "#EBF0F8"
             },
             "line": {
              "color": "white"
             }
            },
            "header": {
             "fill": {
              "color": "#C8D4E3"
             },
             "line": {
              "color": "white"
             }
            },
            "type": "table"
           }
          ]
         },
         "layout": {
          "annotationdefaults": {
           "arrowcolor": "#2a3f5f",
           "arrowhead": 0,
           "arrowwidth": 1
          },
          "autotypenumbers": "strict",
          "coloraxis": {
           "colorbar": {
            "outlinewidth": 0,
            "ticks": ""
           }
          },
          "colorscale": {
           "diverging": [
            [
             0,
             "#8e0152"
            ],
            [
             0.1,
             "#c51b7d"
            ],
            [
             0.2,
             "#de77ae"
            ],
            [
             0.3,
             "#f1b6da"
            ],
            [
             0.4,
             "#fde0ef"
            ],
            [
             0.5,
             "#f7f7f7"
            ],
            [
             0.6,
             "#e6f5d0"
            ],
            [
             0.7,
             "#b8e186"
            ],
            [
             0.8,
             "#7fbc41"
            ],
            [
             0.9,
             "#4d9221"
            ],
            [
             1,
             "#276419"
            ]
           ],
           "sequential": [
            [
             0,
             "#0d0887"
            ],
            [
             0.1111111111111111,
             "#46039f"
            ],
            [
             0.2222222222222222,
             "#7201a8"
            ],
            [
             0.3333333333333333,
             "#9c179e"
            ],
            [
             0.4444444444444444,
             "#bd3786"
            ],
            [
             0.5555555555555556,
             "#d8576b"
            ],
            [
             0.6666666666666666,
             "#ed7953"
            ],
            [
             0.7777777777777778,
             "#fb9f3a"
            ],
            [
             0.8888888888888888,
             "#fdca26"
            ],
            [
             1,
             "#f0f921"
            ]
           ],
           "sequentialminus": [
            [
             0,
             "#0d0887"
            ],
            [
             0.1111111111111111,
             "#46039f"
            ],
            [
             0.2222222222222222,
             "#7201a8"
            ],
            [
             0.3333333333333333,
             "#9c179e"
            ],
            [
             0.4444444444444444,
             "#bd3786"
            ],
            [
             0.5555555555555556,
             "#d8576b"
            ],
            [
             0.6666666666666666,
             "#ed7953"
            ],
            [
             0.7777777777777778,
             "#fb9f3a"
            ],
            [
             0.8888888888888888,
             "#fdca26"
            ],
            [
             1,
             "#f0f921"
            ]
           ]
          },
          "colorway": [
           "#636efa",
           "#EF553B",
           "#00cc96",
           "#ab63fa",
           "#FFA15A",
           "#19d3f3",
           "#FF6692",
           "#B6E880",
           "#FF97FF",
           "#FECB52"
          ],
          "font": {
           "color": "#2a3f5f"
          },
          "geo": {
           "bgcolor": "white",
           "lakecolor": "white",
           "landcolor": "#E5ECF6",
           "showlakes": true,
           "showland": true,
           "subunitcolor": "white"
          },
          "hoverlabel": {
           "align": "left"
          },
          "hovermode": "closest",
          "mapbox": {
           "style": "light"
          },
          "paper_bgcolor": "white",
          "plot_bgcolor": "#E5ECF6",
          "polar": {
           "angularaxis": {
            "gridcolor": "white",
            "linecolor": "white",
            "ticks": ""
           },
           "bgcolor": "#E5ECF6",
           "radialaxis": {
            "gridcolor": "white",
            "linecolor": "white",
            "ticks": ""
           }
          },
          "scene": {
           "xaxis": {
            "backgroundcolor": "#E5ECF6",
            "gridcolor": "white",
            "gridwidth": 2,
            "linecolor": "white",
            "showbackground": true,
            "ticks": "",
            "zerolinecolor": "white"
           },
           "yaxis": {
            "backgroundcolor": "#E5ECF6",
            "gridcolor": "white",
            "gridwidth": 2,
            "linecolor": "white",
            "showbackground": true,
            "ticks": "",
            "zerolinecolor": "white"
           },
           "zaxis": {
            "backgroundcolor": "#E5ECF6",
            "gridcolor": "white",
            "gridwidth": 2,
            "linecolor": "white",
            "showbackground": true,
            "ticks": "",
            "zerolinecolor": "white"
           }
          },
          "shapedefaults": {
           "line": {
            "color": "#2a3f5f"
           }
          },
          "ternary": {
           "aaxis": {
            "gridcolor": "white",
            "linecolor": "white",
            "ticks": ""
           },
           "baxis": {
            "gridcolor": "white",
            "linecolor": "white",
            "ticks": ""
           },
           "bgcolor": "#E5ECF6",
           "caxis": {
            "gridcolor": "white",
            "linecolor": "white",
            "ticks": ""
           }
          },
          "title": {
           "x": 0.05
          },
          "xaxis": {
           "automargin": true,
           "gridcolor": "white",
           "linecolor": "white",
           "ticks": "",
           "title": {
            "standoff": 15
           },
           "zerolinecolor": "white",
           "zerolinewidth": 2
          },
          "yaxis": {
           "automargin": true,
           "gridcolor": "white",
           "linecolor": "white",
           "ticks": "",
           "title": {
            "standoff": 15
           },
           "zerolinecolor": "white",
           "zerolinewidth": 2
          }
         }
        },
        "width": 700
       }
      }
     },
     "metadata": {},
     "output_type": "display_data"
    },
    {
     "name": "stdout",
     "output_type": "stream",
     "text": [
      "Pair: 4\n"
     ]
    },
    {
     "data": {
      "application/vnd.plotly.v1+json": {
       "config": {
        "plotlyServerURL": "https://plot.ly"
       },
       "data": [
        {
         "marker": {
          "size": 5
         },
         "mode": "markers",
         "type": "scatter3d",
         "x": [
          2.498613580340276,
          1.5425209871871068,
          -0.2683385641645799,
          0.006331752832196003,
          -1.4663801239504508
         ],
         "y": [
          14.181042174773172,
          14.01674635107602,
          13.711122046171317,
          14.253861797840992,
          14.493651182004669
         ],
         "z": [
          43.400232669977676,
          44.36997623864605,
          46.281050128695135,
          42.95881413642923,
          41.56677662902564
         ]
        },
        {
         "marker": {
          "color": "red",
          "size": 10
         },
         "mode": "markers",
         "name": "1",
         "type": "scatter3d",
         "x": [
          -29.263660951629973
         ],
         "y": [
          -1.2430463557981564
         ],
         "z": [
          12.072864806071387
         ]
        },
        {
         "marker": {
          "color": "green",
          "size": 10
         },
         "mode": "markers",
         "name": "2",
         "type": "scatter3d",
         "x": [
          -41.25038673862841
         ],
         "y": [
          -5.656343055557063
         ],
         "z": [
          41.06428247246875
         ]
        },
        {
         "marker": {
          "color": "yellow",
          "size": 10
         },
         "mode": "markers",
         "name": "3",
         "type": "scatter3d",
         "x": [
          -3.6761951370659958
         ],
         "y": [
          0.7406403917180908
         ],
         "z": [
          -0.27856516453906366
         ]
        },
        {
         "marker": {
          "color": "black",
          "size": 4
         },
         "mode": "markers",
         "name": "wand",
         "type": "scatter3d",
         "x": [
          2.4286368054067644,
          1.5172819280134568,
          -0.30298874574494405,
          0.061966760311168656,
          -1.3921491157418977
         ],
         "y": [
          14.177834535564292,
          14.022349039417122,
          13.715876872422573,
          14.255623938077022,
          14.484739166385184
         ],
         "z": [
          43.37567696282579,
          44.337881181685354,
          46.261369527424236,
          42.978332501656915,
          41.623589629181446
         ]
        },
        {
         "line": {
          "color": "red",
          "width": 5
         },
         "mode": "lines+text",
         "type": "scatter3d",
         "x": [
          1.5425209871871068,
          -5.289781847292598
         ],
         "y": [
          14.01674635107602,
          12.86363770544547
         ],
         "z": [
          44.36997623864605,
          51.58038388518953
         ]
        },
        {
         "line": {
          "color": "green",
          "width": 5
         },
         "mode": "lines+text",
         "type": "scatter3d",
         "x": [
          1.5425209871871068,
          1.4926927179199536
         ],
         "y": [
          14.01674635107602,
          4.149933940497601
         ],
         "z": [
          44.36997623864605,
          42.74483254425017
         ]
        },
        {
         "line": {
          "color": "blue",
          "width": 5
         },
         "mode": "lines+text",
         "type": "scatter3d",
         "x": [
          1.5425209871871068,
          -5.725514653886945
         ],
         "y": [
          14.01674635107602,
          15.168715518743145
         ],
         "z": [
          44.36997623864605,
          37.59881496772497
         ]
        }
       ],
       "layout": {
        "margin": {
         "b": 10,
         "l": 10,
         "r": 20,
         "t": 10
        },
        "scene": {
         "xaxis": {
          "title": {
           "text": "X"
          }
         },
         "yaxis": {
          "title": {
           "text": "Y"
          }
         },
         "zaxis": {
          "title": {
           "text": "Z"
          }
         }
        },
        "template": {
         "data": {
          "bar": [
           {
            "error_x": {
             "color": "#2a3f5f"
            },
            "error_y": {
             "color": "#2a3f5f"
            },
            "marker": {
             "line": {
              "color": "#E5ECF6",
              "width": 0.5
             },
             "pattern": {
              "fillmode": "overlay",
              "size": 10,
              "solidity": 0.2
             }
            },
            "type": "bar"
           }
          ],
          "barpolar": [
           {
            "marker": {
             "line": {
              "color": "#E5ECF6",
              "width": 0.5
             },
             "pattern": {
              "fillmode": "overlay",
              "size": 10,
              "solidity": 0.2
             }
            },
            "type": "barpolar"
           }
          ],
          "carpet": [
           {
            "aaxis": {
             "endlinecolor": "#2a3f5f",
             "gridcolor": "white",
             "linecolor": "white",
             "minorgridcolor": "white",
             "startlinecolor": "#2a3f5f"
            },
            "baxis": {
             "endlinecolor": "#2a3f5f",
             "gridcolor": "white",
             "linecolor": "white",
             "minorgridcolor": "white",
             "startlinecolor": "#2a3f5f"
            },
            "type": "carpet"
           }
          ],
          "choropleth": [
           {
            "colorbar": {
             "outlinewidth": 0,
             "ticks": ""
            },
            "type": "choropleth"
           }
          ],
          "contour": [
           {
            "colorbar": {
             "outlinewidth": 0,
             "ticks": ""
            },
            "colorscale": [
             [
              0,
              "#0d0887"
             ],
             [
              0.1111111111111111,
              "#46039f"
             ],
             [
              0.2222222222222222,
              "#7201a8"
             ],
             [
              0.3333333333333333,
              "#9c179e"
             ],
             [
              0.4444444444444444,
              "#bd3786"
             ],
             [
              0.5555555555555556,
              "#d8576b"
             ],
             [
              0.6666666666666666,
              "#ed7953"
             ],
             [
              0.7777777777777778,
              "#fb9f3a"
             ],
             [
              0.8888888888888888,
              "#fdca26"
             ],
             [
              1,
              "#f0f921"
             ]
            ],
            "type": "contour"
           }
          ],
          "contourcarpet": [
           {
            "colorbar": {
             "outlinewidth": 0,
             "ticks": ""
            },
            "type": "contourcarpet"
           }
          ],
          "heatmap": [
           {
            "colorbar": {
             "outlinewidth": 0,
             "ticks": ""
            },
            "colorscale": [
             [
              0,
              "#0d0887"
             ],
             [
              0.1111111111111111,
              "#46039f"
             ],
             [
              0.2222222222222222,
              "#7201a8"
             ],
             [
              0.3333333333333333,
              "#9c179e"
             ],
             [
              0.4444444444444444,
              "#bd3786"
             ],
             [
              0.5555555555555556,
              "#d8576b"
             ],
             [
              0.6666666666666666,
              "#ed7953"
             ],
             [
              0.7777777777777778,
              "#fb9f3a"
             ],
             [
              0.8888888888888888,
              "#fdca26"
             ],
             [
              1,
              "#f0f921"
             ]
            ],
            "type": "heatmap"
           }
          ],
          "heatmapgl": [
           {
            "colorbar": {
             "outlinewidth": 0,
             "ticks": ""
            },
            "colorscale": [
             [
              0,
              "#0d0887"
             ],
             [
              0.1111111111111111,
              "#46039f"
             ],
             [
              0.2222222222222222,
              "#7201a8"
             ],
             [
              0.3333333333333333,
              "#9c179e"
             ],
             [
              0.4444444444444444,
              "#bd3786"
             ],
             [
              0.5555555555555556,
              "#d8576b"
             ],
             [
              0.6666666666666666,
              "#ed7953"
             ],
             [
              0.7777777777777778,
              "#fb9f3a"
             ],
             [
              0.8888888888888888,
              "#fdca26"
             ],
             [
              1,
              "#f0f921"
             ]
            ],
            "type": "heatmapgl"
           }
          ],
          "histogram": [
           {
            "marker": {
             "pattern": {
              "fillmode": "overlay",
              "size": 10,
              "solidity": 0.2
             }
            },
            "type": "histogram"
           }
          ],
          "histogram2d": [
           {
            "colorbar": {
             "outlinewidth": 0,
             "ticks": ""
            },
            "colorscale": [
             [
              0,
              "#0d0887"
             ],
             [
              0.1111111111111111,
              "#46039f"
             ],
             [
              0.2222222222222222,
              "#7201a8"
             ],
             [
              0.3333333333333333,
              "#9c179e"
             ],
             [
              0.4444444444444444,
              "#bd3786"
             ],
             [
              0.5555555555555556,
              "#d8576b"
             ],
             [
              0.6666666666666666,
              "#ed7953"
             ],
             [
              0.7777777777777778,
              "#fb9f3a"
             ],
             [
              0.8888888888888888,
              "#fdca26"
             ],
             [
              1,
              "#f0f921"
             ]
            ],
            "type": "histogram2d"
           }
          ],
          "histogram2dcontour": [
           {
            "colorbar": {
             "outlinewidth": 0,
             "ticks": ""
            },
            "colorscale": [
             [
              0,
              "#0d0887"
             ],
             [
              0.1111111111111111,
              "#46039f"
             ],
             [
              0.2222222222222222,
              "#7201a8"
             ],
             [
              0.3333333333333333,
              "#9c179e"
             ],
             [
              0.4444444444444444,
              "#bd3786"
             ],
             [
              0.5555555555555556,
              "#d8576b"
             ],
             [
              0.6666666666666666,
              "#ed7953"
             ],
             [
              0.7777777777777778,
              "#fb9f3a"
             ],
             [
              0.8888888888888888,
              "#fdca26"
             ],
             [
              1,
              "#f0f921"
             ]
            ],
            "type": "histogram2dcontour"
           }
          ],
          "mesh3d": [
           {
            "colorbar": {
             "outlinewidth": 0,
             "ticks": ""
            },
            "type": "mesh3d"
           }
          ],
          "parcoords": [
           {
            "line": {
             "colorbar": {
              "outlinewidth": 0,
              "ticks": ""
             }
            },
            "type": "parcoords"
           }
          ],
          "pie": [
           {
            "automargin": true,
            "type": "pie"
           }
          ],
          "scatter": [
           {
            "fillpattern": {
             "fillmode": "overlay",
             "size": 10,
             "solidity": 0.2
            },
            "type": "scatter"
           }
          ],
          "scatter3d": [
           {
            "line": {
             "colorbar": {
              "outlinewidth": 0,
              "ticks": ""
             }
            },
            "marker": {
             "colorbar": {
              "outlinewidth": 0,
              "ticks": ""
             }
            },
            "type": "scatter3d"
           }
          ],
          "scattercarpet": [
           {
            "marker": {
             "colorbar": {
              "outlinewidth": 0,
              "ticks": ""
             }
            },
            "type": "scattercarpet"
           }
          ],
          "scattergeo": [
           {
            "marker": {
             "colorbar": {
              "outlinewidth": 0,
              "ticks": ""
             }
            },
            "type": "scattergeo"
           }
          ],
          "scattergl": [
           {
            "marker": {
             "colorbar": {
              "outlinewidth": 0,
              "ticks": ""
             }
            },
            "type": "scattergl"
           }
          ],
          "scattermapbox": [
           {
            "marker": {
             "colorbar": {
              "outlinewidth": 0,
              "ticks": ""
             }
            },
            "type": "scattermapbox"
           }
          ],
          "scatterpolar": [
           {
            "marker": {
             "colorbar": {
              "outlinewidth": 0,
              "ticks": ""
             }
            },
            "type": "scatterpolar"
           }
          ],
          "scatterpolargl": [
           {
            "marker": {
             "colorbar": {
              "outlinewidth": 0,
              "ticks": ""
             }
            },
            "type": "scatterpolargl"
           }
          ],
          "scatterternary": [
           {
            "marker": {
             "colorbar": {
              "outlinewidth": 0,
              "ticks": ""
             }
            },
            "type": "scatterternary"
           }
          ],
          "surface": [
           {
            "colorbar": {
             "outlinewidth": 0,
             "ticks": ""
            },
            "colorscale": [
             [
              0,
              "#0d0887"
             ],
             [
              0.1111111111111111,
              "#46039f"
             ],
             [
              0.2222222222222222,
              "#7201a8"
             ],
             [
              0.3333333333333333,
              "#9c179e"
             ],
             [
              0.4444444444444444,
              "#bd3786"
             ],
             [
              0.5555555555555556,
              "#d8576b"
             ],
             [
              0.6666666666666666,
              "#ed7953"
             ],
             [
              0.7777777777777778,
              "#fb9f3a"
             ],
             [
              0.8888888888888888,
              "#fdca26"
             ],
             [
              1,
              "#f0f921"
             ]
            ],
            "type": "surface"
           }
          ],
          "table": [
           {
            "cells": {
             "fill": {
              "color": "#EBF0F8"
             },
             "line": {
              "color": "white"
             }
            },
            "header": {
             "fill": {
              "color": "#C8D4E3"
             },
             "line": {
              "color": "white"
             }
            },
            "type": "table"
           }
          ]
         },
         "layout": {
          "annotationdefaults": {
           "arrowcolor": "#2a3f5f",
           "arrowhead": 0,
           "arrowwidth": 1
          },
          "autotypenumbers": "strict",
          "coloraxis": {
           "colorbar": {
            "outlinewidth": 0,
            "ticks": ""
           }
          },
          "colorscale": {
           "diverging": [
            [
             0,
             "#8e0152"
            ],
            [
             0.1,
             "#c51b7d"
            ],
            [
             0.2,
             "#de77ae"
            ],
            [
             0.3,
             "#f1b6da"
            ],
            [
             0.4,
             "#fde0ef"
            ],
            [
             0.5,
             "#f7f7f7"
            ],
            [
             0.6,
             "#e6f5d0"
            ],
            [
             0.7,
             "#b8e186"
            ],
            [
             0.8,
             "#7fbc41"
            ],
            [
             0.9,
             "#4d9221"
            ],
            [
             1,
             "#276419"
            ]
           ],
           "sequential": [
            [
             0,
             "#0d0887"
            ],
            [
             0.1111111111111111,
             "#46039f"
            ],
            [
             0.2222222222222222,
             "#7201a8"
            ],
            [
             0.3333333333333333,
             "#9c179e"
            ],
            [
             0.4444444444444444,
             "#bd3786"
            ],
            [
             0.5555555555555556,
             "#d8576b"
            ],
            [
             0.6666666666666666,
             "#ed7953"
            ],
            [
             0.7777777777777778,
             "#fb9f3a"
            ],
            [
             0.8888888888888888,
             "#fdca26"
            ],
            [
             1,
             "#f0f921"
            ]
           ],
           "sequentialminus": [
            [
             0,
             "#0d0887"
            ],
            [
             0.1111111111111111,
             "#46039f"
            ],
            [
             0.2222222222222222,
             "#7201a8"
            ],
            [
             0.3333333333333333,
             "#9c179e"
            ],
            [
             0.4444444444444444,
             "#bd3786"
            ],
            [
             0.5555555555555556,
             "#d8576b"
            ],
            [
             0.6666666666666666,
             "#ed7953"
            ],
            [
             0.7777777777777778,
             "#fb9f3a"
            ],
            [
             0.8888888888888888,
             "#fdca26"
            ],
            [
             1,
             "#f0f921"
            ]
           ]
          },
          "colorway": [
           "#636efa",
           "#EF553B",
           "#00cc96",
           "#ab63fa",
           "#FFA15A",
           "#19d3f3",
           "#FF6692",
           "#B6E880",
           "#FF97FF",
           "#FECB52"
          ],
          "font": {
           "color": "#2a3f5f"
          },
          "geo": {
           "bgcolor": "white",
           "lakecolor": "white",
           "landcolor": "#E5ECF6",
           "showlakes": true,
           "showland": true,
           "subunitcolor": "white"
          },
          "hoverlabel": {
           "align": "left"
          },
          "hovermode": "closest",
          "mapbox": {
           "style": "light"
          },
          "paper_bgcolor": "white",
          "plot_bgcolor": "#E5ECF6",
          "polar": {
           "angularaxis": {
            "gridcolor": "white",
            "linecolor": "white",
            "ticks": ""
           },
           "bgcolor": "#E5ECF6",
           "radialaxis": {
            "gridcolor": "white",
            "linecolor": "white",
            "ticks": ""
           }
          },
          "scene": {
           "xaxis": {
            "backgroundcolor": "#E5ECF6",
            "gridcolor": "white",
            "gridwidth": 2,
            "linecolor": "white",
            "showbackground": true,
            "ticks": "",
            "zerolinecolor": "white"
           },
           "yaxis": {
            "backgroundcolor": "#E5ECF6",
            "gridcolor": "white",
            "gridwidth": 2,
            "linecolor": "white",
            "showbackground": true,
            "ticks": "",
            "zerolinecolor": "white"
           },
           "zaxis": {
            "backgroundcolor": "#E5ECF6",
            "gridcolor": "white",
            "gridwidth": 2,
            "linecolor": "white",
            "showbackground": true,
            "ticks": "",
            "zerolinecolor": "white"
           }
          },
          "shapedefaults": {
           "line": {
            "color": "#2a3f5f"
           }
          },
          "ternary": {
           "aaxis": {
            "gridcolor": "white",
            "linecolor": "white",
            "ticks": ""
           },
           "baxis": {
            "gridcolor": "white",
            "linecolor": "white",
            "ticks": ""
           },
           "bgcolor": "#E5ECF6",
           "caxis": {
            "gridcolor": "white",
            "linecolor": "white",
            "ticks": ""
           }
          },
          "title": {
           "x": 0.05
          },
          "xaxis": {
           "automargin": true,
           "gridcolor": "white",
           "linecolor": "white",
           "ticks": "",
           "title": {
            "standoff": 15
           },
           "zerolinecolor": "white",
           "zerolinewidth": 2
          },
          "yaxis": {
           "automargin": true,
           "gridcolor": "white",
           "linecolor": "white",
           "ticks": "",
           "title": {
            "standoff": 15
           },
           "zerolinecolor": "white",
           "zerolinewidth": 2
          }
         }
        },
        "width": 700
       }
      }
     },
     "metadata": {},
     "output_type": "display_data"
    },
    {
     "name": "stdout",
     "output_type": "stream",
     "text": [
      "Pair: 5\n"
     ]
    },
    {
     "data": {
      "application/vnd.plotly.v1+json": {
       "config": {
        "plotlyServerURL": "https://plot.ly"
       },
       "data": [
        {
         "marker": {
          "size": 5
         },
         "mode": "markers",
         "type": "scatter3d",
         "x": [
          -1.2229200112403547,
          -2.207355965543968,
          -4.144143327173911,
          -0.777923309483846,
          0.6332060216281725
         ],
         "y": [
          12.554251617568097,
          12.753125420480094,
          13.147869641982185,
          13.048381883296443,
          13.336769387060764
         ],
         "z": [
          44.55606644606894,
          43.621805339241725,
          41.85606083362414,
          42.11282373546733,
          40.667246237945804
         ]
        },
        {
         "marker": {
          "color": "red",
          "size": 10
         },
         "mode": "markers",
         "name": "1",
         "type": "scatter3d",
         "x": [
          26.897927205869554
         ],
         "y": [
          -1.317557772679479
         ],
         "z": [
          9.272367323722692
         ]
        },
        {
         "marker": {
          "color": "green",
          "size": 10
         },
         "mode": "markers",
         "name": "2",
         "type": "scatter3d",
         "x": [
          -2.4299628161585822
         ],
         "y": [
          1.7835484188337802
         ],
         "z": [
          -2.2999742027391665
         ]
        },
        {
         "marker": {
          "color": "yellow",
          "size": 10
         },
         "mode": "markers",
         "name": "3",
         "type": "scatter3d",
         "x": [
          39.43013353732977
         ],
         "y": [
          -6.642459602243894
         ],
         "z": [
          34.28837154529764
         ]
        },
        {
         "marker": {
          "color": "black",
          "size": 4
         },
         "mode": "markers",
         "name": "wand",
         "type": "scatter3d",
         "x": [
          -1.199368486903591,
          -2.1747995492429943,
          -4.123967452386509,
          -0.7967810560559876,
          0.5757799527751715
         ],
         "y": [
          12.560979347494452,
          12.758099629760917,
          13.15603414441335,
          13.042271948242075,
          13.323012880476814
         ],
         "z": [
          44.48599445391393,
          43.597029748318455,
          41.822343708906416,
          42.16837893202364,
          40.7402557491855
         ]
        },
        {
         "line": {
          "color": "red",
          "width": 5
         },
         "mode": "lines+text",
         "type": "scatter3d",
         "x": [
          -2.207355965543968,
          -9.514779542801174
         ],
         "y": [
          12.753125420480094,
          14.242480054002101
         ],
         "z": [
          43.621805339241725,
          36.95971982206679
         ]
        },
        {
         "line": {
          "color": "green",
          "width": 5
         },
         "mode": "lines+text",
         "type": "scatter3d",
         "x": [
          -2.207355965543968,
          -2.3310543817081393
         ],
         "y": [
          12.753125420480094,
          2.9668535363811266
         ],
         "z": [
          43.621805339241725,
          41.569698289955625
         ]
        },
        {
         "line": {
          "color": "blue",
          "width": 5
         },
         "mode": "lines+text",
         "type": "scatter3d",
         "x": [
          -2.207355965543968,
          4.65405456304666
         ],
         "y": [
          12.753125420480094,
          14.162924212173325
         ],
         "z": [
          43.621805339241725,
          36.485033455183355
         ]
        }
       ],
       "layout": {
        "margin": {
         "b": 10,
         "l": 10,
         "r": 20,
         "t": 10
        },
        "scene": {
         "xaxis": {
          "title": {
           "text": "X"
          }
         },
         "yaxis": {
          "title": {
           "text": "Y"
          }
         },
         "zaxis": {
          "title": {
           "text": "Z"
          }
         }
        },
        "template": {
         "data": {
          "bar": [
           {
            "error_x": {
             "color": "#2a3f5f"
            },
            "error_y": {
             "color": "#2a3f5f"
            },
            "marker": {
             "line": {
              "color": "#E5ECF6",
              "width": 0.5
             },
             "pattern": {
              "fillmode": "overlay",
              "size": 10,
              "solidity": 0.2
             }
            },
            "type": "bar"
           }
          ],
          "barpolar": [
           {
            "marker": {
             "line": {
              "color": "#E5ECF6",
              "width": 0.5
             },
             "pattern": {
              "fillmode": "overlay",
              "size": 10,
              "solidity": 0.2
             }
            },
            "type": "barpolar"
           }
          ],
          "carpet": [
           {
            "aaxis": {
             "endlinecolor": "#2a3f5f",
             "gridcolor": "white",
             "linecolor": "white",
             "minorgridcolor": "white",
             "startlinecolor": "#2a3f5f"
            },
            "baxis": {
             "endlinecolor": "#2a3f5f",
             "gridcolor": "white",
             "linecolor": "white",
             "minorgridcolor": "white",
             "startlinecolor": "#2a3f5f"
            },
            "type": "carpet"
           }
          ],
          "choropleth": [
           {
            "colorbar": {
             "outlinewidth": 0,
             "ticks": ""
            },
            "type": "choropleth"
           }
          ],
          "contour": [
           {
            "colorbar": {
             "outlinewidth": 0,
             "ticks": ""
            },
            "colorscale": [
             [
              0,
              "#0d0887"
             ],
             [
              0.1111111111111111,
              "#46039f"
             ],
             [
              0.2222222222222222,
              "#7201a8"
             ],
             [
              0.3333333333333333,
              "#9c179e"
             ],
             [
              0.4444444444444444,
              "#bd3786"
             ],
             [
              0.5555555555555556,
              "#d8576b"
             ],
             [
              0.6666666666666666,
              "#ed7953"
             ],
             [
              0.7777777777777778,
              "#fb9f3a"
             ],
             [
              0.8888888888888888,
              "#fdca26"
             ],
             [
              1,
              "#f0f921"
             ]
            ],
            "type": "contour"
           }
          ],
          "contourcarpet": [
           {
            "colorbar": {
             "outlinewidth": 0,
             "ticks": ""
            },
            "type": "contourcarpet"
           }
          ],
          "heatmap": [
           {
            "colorbar": {
             "outlinewidth": 0,
             "ticks": ""
            },
            "colorscale": [
             [
              0,
              "#0d0887"
             ],
             [
              0.1111111111111111,
              "#46039f"
             ],
             [
              0.2222222222222222,
              "#7201a8"
             ],
             [
              0.3333333333333333,
              "#9c179e"
             ],
             [
              0.4444444444444444,
              "#bd3786"
             ],
             [
              0.5555555555555556,
              "#d8576b"
             ],
             [
              0.6666666666666666,
              "#ed7953"
             ],
             [
              0.7777777777777778,
              "#fb9f3a"
             ],
             [
              0.8888888888888888,
              "#fdca26"
             ],
             [
              1,
              "#f0f921"
             ]
            ],
            "type": "heatmap"
           }
          ],
          "heatmapgl": [
           {
            "colorbar": {
             "outlinewidth": 0,
             "ticks": ""
            },
            "colorscale": [
             [
              0,
              "#0d0887"
             ],
             [
              0.1111111111111111,
              "#46039f"
             ],
             [
              0.2222222222222222,
              "#7201a8"
             ],
             [
              0.3333333333333333,
              "#9c179e"
             ],
             [
              0.4444444444444444,
              "#bd3786"
             ],
             [
              0.5555555555555556,
              "#d8576b"
             ],
             [
              0.6666666666666666,
              "#ed7953"
             ],
             [
              0.7777777777777778,
              "#fb9f3a"
             ],
             [
              0.8888888888888888,
              "#fdca26"
             ],
             [
              1,
              "#f0f921"
             ]
            ],
            "type": "heatmapgl"
           }
          ],
          "histogram": [
           {
            "marker": {
             "pattern": {
              "fillmode": "overlay",
              "size": 10,
              "solidity": 0.2
             }
            },
            "type": "histogram"
           }
          ],
          "histogram2d": [
           {
            "colorbar": {
             "outlinewidth": 0,
             "ticks": ""
            },
            "colorscale": [
             [
              0,
              "#0d0887"
             ],
             [
              0.1111111111111111,
              "#46039f"
             ],
             [
              0.2222222222222222,
              "#7201a8"
             ],
             [
              0.3333333333333333,
              "#9c179e"
             ],
             [
              0.4444444444444444,
              "#bd3786"
             ],
             [
              0.5555555555555556,
              "#d8576b"
             ],
             [
              0.6666666666666666,
              "#ed7953"
             ],
             [
              0.7777777777777778,
              "#fb9f3a"
             ],
             [
              0.8888888888888888,
              "#fdca26"
             ],
             [
              1,
              "#f0f921"
             ]
            ],
            "type": "histogram2d"
           }
          ],
          "histogram2dcontour": [
           {
            "colorbar": {
             "outlinewidth": 0,
             "ticks": ""
            },
            "colorscale": [
             [
              0,
              "#0d0887"
             ],
             [
              0.1111111111111111,
              "#46039f"
             ],
             [
              0.2222222222222222,
              "#7201a8"
             ],
             [
              0.3333333333333333,
              "#9c179e"
             ],
             [
              0.4444444444444444,
              "#bd3786"
             ],
             [
              0.5555555555555556,
              "#d8576b"
             ],
             [
              0.6666666666666666,
              "#ed7953"
             ],
             [
              0.7777777777777778,
              "#fb9f3a"
             ],
             [
              0.8888888888888888,
              "#fdca26"
             ],
             [
              1,
              "#f0f921"
             ]
            ],
            "type": "histogram2dcontour"
           }
          ],
          "mesh3d": [
           {
            "colorbar": {
             "outlinewidth": 0,
             "ticks": ""
            },
            "type": "mesh3d"
           }
          ],
          "parcoords": [
           {
            "line": {
             "colorbar": {
              "outlinewidth": 0,
              "ticks": ""
             }
            },
            "type": "parcoords"
           }
          ],
          "pie": [
           {
            "automargin": true,
            "type": "pie"
           }
          ],
          "scatter": [
           {
            "fillpattern": {
             "fillmode": "overlay",
             "size": 10,
             "solidity": 0.2
            },
            "type": "scatter"
           }
          ],
          "scatter3d": [
           {
            "line": {
             "colorbar": {
              "outlinewidth": 0,
              "ticks": ""
             }
            },
            "marker": {
             "colorbar": {
              "outlinewidth": 0,
              "ticks": ""
             }
            },
            "type": "scatter3d"
           }
          ],
          "scattercarpet": [
           {
            "marker": {
             "colorbar": {
              "outlinewidth": 0,
              "ticks": ""
             }
            },
            "type": "scattercarpet"
           }
          ],
          "scattergeo": [
           {
            "marker": {
             "colorbar": {
              "outlinewidth": 0,
              "ticks": ""
             }
            },
            "type": "scattergeo"
           }
          ],
          "scattergl": [
           {
            "marker": {
             "colorbar": {
              "outlinewidth": 0,
              "ticks": ""
             }
            },
            "type": "scattergl"
           }
          ],
          "scattermapbox": [
           {
            "marker": {
             "colorbar": {
              "outlinewidth": 0,
              "ticks": ""
             }
            },
            "type": "scattermapbox"
           }
          ],
          "scatterpolar": [
           {
            "marker": {
             "colorbar": {
              "outlinewidth": 0,
              "ticks": ""
             }
            },
            "type": "scatterpolar"
           }
          ],
          "scatterpolargl": [
           {
            "marker": {
             "colorbar": {
              "outlinewidth": 0,
              "ticks": ""
             }
            },
            "type": "scatterpolargl"
           }
          ],
          "scatterternary": [
           {
            "marker": {
             "colorbar": {
              "outlinewidth": 0,
              "ticks": ""
             }
            },
            "type": "scatterternary"
           }
          ],
          "surface": [
           {
            "colorbar": {
             "outlinewidth": 0,
             "ticks": ""
            },
            "colorscale": [
             [
              0,
              "#0d0887"
             ],
             [
              0.1111111111111111,
              "#46039f"
             ],
             [
              0.2222222222222222,
              "#7201a8"
             ],
             [
              0.3333333333333333,
              "#9c179e"
             ],
             [
              0.4444444444444444,
              "#bd3786"
             ],
             [
              0.5555555555555556,
              "#d8576b"
             ],
             [
              0.6666666666666666,
              "#ed7953"
             ],
             [
              0.7777777777777778,
              "#fb9f3a"
             ],
             [
              0.8888888888888888,
              "#fdca26"
             ],
             [
              1,
              "#f0f921"
             ]
            ],
            "type": "surface"
           }
          ],
          "table": [
           {
            "cells": {
             "fill": {
              "color": "#EBF0F8"
             },
             "line": {
              "color": "white"
             }
            },
            "header": {
             "fill": {
              "color": "#C8D4E3"
             },
             "line": {
              "color": "white"
             }
            },
            "type": "table"
           }
          ]
         },
         "layout": {
          "annotationdefaults": {
           "arrowcolor": "#2a3f5f",
           "arrowhead": 0,
           "arrowwidth": 1
          },
          "autotypenumbers": "strict",
          "coloraxis": {
           "colorbar": {
            "outlinewidth": 0,
            "ticks": ""
           }
          },
          "colorscale": {
           "diverging": [
            [
             0,
             "#8e0152"
            ],
            [
             0.1,
             "#c51b7d"
            ],
            [
             0.2,
             "#de77ae"
            ],
            [
             0.3,
             "#f1b6da"
            ],
            [
             0.4,
             "#fde0ef"
            ],
            [
             0.5,
             "#f7f7f7"
            ],
            [
             0.6,
             "#e6f5d0"
            ],
            [
             0.7,
             "#b8e186"
            ],
            [
             0.8,
             "#7fbc41"
            ],
            [
             0.9,
             "#4d9221"
            ],
            [
             1,
             "#276419"
            ]
           ],
           "sequential": [
            [
             0,
             "#0d0887"
            ],
            [
             0.1111111111111111,
             "#46039f"
            ],
            [
             0.2222222222222222,
             "#7201a8"
            ],
            [
             0.3333333333333333,
             "#9c179e"
            ],
            [
             0.4444444444444444,
             "#bd3786"
            ],
            [
             0.5555555555555556,
             "#d8576b"
            ],
            [
             0.6666666666666666,
             "#ed7953"
            ],
            [
             0.7777777777777778,
             "#fb9f3a"
            ],
            [
             0.8888888888888888,
             "#fdca26"
            ],
            [
             1,
             "#f0f921"
            ]
           ],
           "sequentialminus": [
            [
             0,
             "#0d0887"
            ],
            [
             0.1111111111111111,
             "#46039f"
            ],
            [
             0.2222222222222222,
             "#7201a8"
            ],
            [
             0.3333333333333333,
             "#9c179e"
            ],
            [
             0.4444444444444444,
             "#bd3786"
            ],
            [
             0.5555555555555556,
             "#d8576b"
            ],
            [
             0.6666666666666666,
             "#ed7953"
            ],
            [
             0.7777777777777778,
             "#fb9f3a"
            ],
            [
             0.8888888888888888,
             "#fdca26"
            ],
            [
             1,
             "#f0f921"
            ]
           ]
          },
          "colorway": [
           "#636efa",
           "#EF553B",
           "#00cc96",
           "#ab63fa",
           "#FFA15A",
           "#19d3f3",
           "#FF6692",
           "#B6E880",
           "#FF97FF",
           "#FECB52"
          ],
          "font": {
           "color": "#2a3f5f"
          },
          "geo": {
           "bgcolor": "white",
           "lakecolor": "white",
           "landcolor": "#E5ECF6",
           "showlakes": true,
           "showland": true,
           "subunitcolor": "white"
          },
          "hoverlabel": {
           "align": "left"
          },
          "hovermode": "closest",
          "mapbox": {
           "style": "light"
          },
          "paper_bgcolor": "white",
          "plot_bgcolor": "#E5ECF6",
          "polar": {
           "angularaxis": {
            "gridcolor": "white",
            "linecolor": "white",
            "ticks": ""
           },
           "bgcolor": "#E5ECF6",
           "radialaxis": {
            "gridcolor": "white",
            "linecolor": "white",
            "ticks": ""
           }
          },
          "scene": {
           "xaxis": {
            "backgroundcolor": "#E5ECF6",
            "gridcolor": "white",
            "gridwidth": 2,
            "linecolor": "white",
            "showbackground": true,
            "ticks": "",
            "zerolinecolor": "white"
           },
           "yaxis": {
            "backgroundcolor": "#E5ECF6",
            "gridcolor": "white",
            "gridwidth": 2,
            "linecolor": "white",
            "showbackground": true,
            "ticks": "",
            "zerolinecolor": "white"
           },
           "zaxis": {
            "backgroundcolor": "#E5ECF6",
            "gridcolor": "white",
            "gridwidth": 2,
            "linecolor": "white",
            "showbackground": true,
            "ticks": "",
            "zerolinecolor": "white"
           }
          },
          "shapedefaults": {
           "line": {
            "color": "#2a3f5f"
           }
          },
          "ternary": {
           "aaxis": {
            "gridcolor": "white",
            "linecolor": "white",
            "ticks": ""
           },
           "baxis": {
            "gridcolor": "white",
            "linecolor": "white",
            "ticks": ""
           },
           "bgcolor": "#E5ECF6",
           "caxis": {
            "gridcolor": "white",
            "linecolor": "white",
            "ticks": ""
           }
          },
          "title": {
           "x": 0.05
          },
          "xaxis": {
           "automargin": true,
           "gridcolor": "white",
           "linecolor": "white",
           "ticks": "",
           "title": {
            "standoff": 15
           },
           "zerolinecolor": "white",
           "zerolinewidth": 2
          },
          "yaxis": {
           "automargin": true,
           "gridcolor": "white",
           "linecolor": "white",
           "ticks": "",
           "title": {
            "standoff": 15
           },
           "zerolinecolor": "white",
           "zerolinewidth": 2
          }
         }
        },
        "width": 700
       }
      }
     },
     "metadata": {},
     "output_type": "display_data"
    }
   ],
   "source": [
    "import numpy as np\n",
    "import cv2\n",
    "from scipy import linalg\n",
    "import pandas as pd\n",
    "import matplotlib.pyplot as plt\n",
    "from fastprogress import progress_bar\n",
    "import json\n",
    "from glob import glob\n",
    "import os\n",
    "\n",
    "\n",
    "df_cam_matrix = pd.read_csv(f'{root_path}calibration/external/csvs/external_calibrations_w_errors_best.csv')\n",
    "\n",
    "matrix_subjects = df_cam_matrix['subject'].unique().tolist()\n",
    "matrix_subjects = sorted(matrix_subjects)\n",
    "matrix_subjects = [int(subj.replace('S', '')) for subj in matrix_subjects]\n",
    "map_matrix = {}\n",
    "cur_num = 1\n",
    "for i in range(1,29):\n",
    "    if i in matrix_subjects:\n",
    "        cur_num = i\n",
    "    map_matrix[f'S{i}'] = f'S{cur_num}'\n",
    "\n",
    "with open(f'{root_path}data/markers_points.json', 'r') as f:\n",
    "    markers = json.load(f)\n",
    "keys = list(markers.keys())\n",
    "subject_nums = [int(key.replace('S', '')) for key in keys if 'points' in markers[key]['C1']]\n",
    "subject_nums = sorted(subject_nums)\n",
    "map_nums = {}\n",
    "cur_num = 1\n",
    "for i in range(1,29):\n",
    "    if i in subject_nums:\n",
    "        cur_num = i\n",
    "    map_nums[f'S{i}'] = f'S{cur_num}'\n",
    "\n",
    "c1_data = []\n",
    "c2_data = []\n",
    "c3_data = []\n",
    "c4_data = []\n",
    "c5_data = []\n",
    "c6_data = []\n",
    "\n",
    "files = glob(f'{root_path}WCS/S17/S17A1D1.json')\n",
    "print(len(files))\n",
    "for file in progress_bar(files):\n",
    "    c1_data = []\n",
    "    c2_data = []\n",
    "    c3_data = []\n",
    "    c4_data = []\n",
    "    c5_data = []\n",
    "    c6_data = []\n",
    "    subject = file.split('/')[-2]\n",
    "    combintation = file.split('/')[-1].replace('.json', '')\n",
    "    print(f'Processing {subject} {combintation}')\n",
    "    with open(file, 'r') as f:\n",
    "        frames = json.load(f)\n",
    "    frames = frames[:1]\n",
    "    print(len(frames))\n",
    "    for frame in progress_bar(frames):\n",
    "        xyz = frame['xyz']\n",
    "        xyz_wand = frame['xyz_wand']\n",
    "        point_ids = frame['point_ids']\n",
    "        floor_idx = point_ids.index('CentreOfMassFloor')\n",
    "        # floor_y = xyz[floor_idx][1]\n",
    "        points_skel = np.array(xyz)\n",
    "        wcs_skel = []\n",
    "        wcs_skel.append(points_skel)\n",
    "        wcs_skel = np.array(wcs_skel)\n",
    "        wcs_skel = wcs_skel.reshape(wcs_skel.shape[1], wcs_skel.shape[2])\n",
    "        wcs_skel[:, 0] = wcs_skel[:, 0]/60\n",
    "        wcs_skel[:, 1] = wcs_skel[:, 1]/60\n",
    "        wcs_skel[:, 2] = wcs_skel[:, 2]/60\n",
    "\n",
    "        wcs_wand = []\n",
    "        wcs_wand.append(xyz_wand)\n",
    "        wcs_wand = np.array(wcs_wand)\n",
    "        wcs_wand = wcs_wand.reshape(wcs_wand.shape[1], wcs_wand.shape[2])\n",
    "        wcs_wand[:, 0] = wcs_wand[:, 0]/60\n",
    "        wcs_wand[:, 1] = wcs_wand[:, 1]/60\n",
    "        wcs_wand[:, 2] = wcs_wand[:, 2]/60\n",
    "\n",
    "        for main in [1, 6]:\n",
    "            if main == 1:\n",
    "                pairs = [2, 3]\n",
    "            else:\n",
    "                pairs = [4, 5]\n",
    "\n",
    "            df_temp = df_cam_matrix[(df_cam_matrix['main'] == main) & (df_cam_matrix['pair'] == pairs[0]) & (df_cam_matrix['subject'] == map_matrix[subject])].copy()\n",
    "            path1 = df_temp['path'].values[0]\n",
    "            df_temp = df_cam_matrix[(df_cam_matrix['main'] == main) & (df_cam_matrix['pair'] == pairs[1]) & (df_cam_matrix['subject'] == map_matrix[subject])].copy()\n",
    "            path2 = df_temp['path'].values[0]\n",
    "            data = np.load(path1)\n",
    "            data2 = np.load(path2)\n",
    "\n",
    "            R1 = np.eye(3)  \n",
    "            T1 = np.array([0, 0, 0])  \n",
    "            R2 = data['R']\n",
    "            T2 = data['T']\n",
    "            T2 = np.array([T2[0][0], T2[1][0], T2[2][0]]).reshape((3,1))\n",
    "            R3 = data2['R']\n",
    "            T3 = data2['T']\n",
    "            T3 = np.array([T3[0][0], T3[1][0], T3[2][0]]).reshape((3,1))\n",
    "\n",
    "            cameraMatrix1 = data['mtx_A']\n",
    "            cameraMatrix2 = data['mtx_B']\n",
    "            cameraMatrix3 = data2['mtx_B']\n",
    "\n",
    "            RT1 = np.concatenate([R1, [[0],[0],[0]]], axis = -1)\n",
    "            P1 = cameraMatrix1 @ RT1\n",
    "            RT2 = np.concatenate([R2, T2], axis = -1)\n",
    "            P2 = cameraMatrix2 @ RT2\n",
    "            RT3 = np.concatenate([R3, T3], axis = -1)\n",
    "            P3 = cameraMatrix3 @ RT3\n",
    "\n",
    "            Ps = [P1, P2, P3]\n",
    "\n",
    "            def triangulate_multiple_points(imgpoints_Origin, imgpoints_Pair1, imgpoints_Pair2, projMatr_Origin, projMatr_Pair1, projMatr_Pair2):\n",
    "                points_3d_list = []\n",
    "                for points_origin, points_pair1, points_pair2 in zip(imgpoints_Origin, imgpoints_Pair1, imgpoints_Pair2):\n",
    "                    point_origin = np.array(points_origin)\n",
    "                    point_pair1 = np.array(points_pair1)\n",
    "                    point_pair2 = np.array(points_pair2)\n",
    "\n",
    "                    A = [point_origin[1]*projMatr_Origin[2,:] - projMatr_Origin[1,:],\n",
    "                        projMatr_Origin[0,:] - point_origin[0]*projMatr_Origin[2,:],\n",
    "                        point_pair1[1]*projMatr_Pair1[2,:] - projMatr_Pair1[1,:],\n",
    "                        projMatr_Pair1[0,:] - point_pair1[0]*projMatr_Pair1[2,:],\n",
    "                        point_pair2[1]*projMatr_Pair2[2,:] - projMatr_Pair2[1,:],\n",
    "                        projMatr_Pair2[0,:] - point_pair2[0]*projMatr_Pair2[2,:],\n",
    "                        ]\n",
    "\n",
    "                    A = np.array(A) \n",
    "                    B = A.transpose() @ A\n",
    "                    U, s, Vh = linalg.svd(B, full_matrices = False)\n",
    "                    \n",
    "                    points4D_homogeneous = Vh[-1,0:3]/Vh[-1,3]\n",
    "                    points_3d_list.append(points4D_homogeneous[:3].T)\n",
    "\n",
    "                return points_3d_list\n",
    "\n",
    "            all_cam_points = [\n",
    "                markers[map_nums[subject]][f'C{main}']['points'],\n",
    "                markers[map_nums[subject]][f'C{pairs[0]}']['points'],\n",
    "                markers[map_nums[subject]][f'C{pairs[1]}']['points']\n",
    "            ]\n",
    "\n",
    "            all_results = []\n",
    "\n",
    "            all_results.append(triangulate_multiple_points(all_cam_points[0], all_cam_points[1], all_cam_points[2], Ps[0], Ps[1], Ps[2]))\n",
    "            R1_initial = R1.copy()\n",
    "            T1_initial = T1.reshape((3,1)).copy()\n",
    "            R2_initial = R2.copy()\n",
    "            T2_initial = T2.reshape((3,1)).copy()\n",
    "            R3_initial = R3.copy()\n",
    "            T3_initial = T3.reshape((3,1)).copy()\n",
    "            points_initial = (all_results[0].copy())\n",
    "            points_initial = np.array(points_initial)\n",
    "            points = np.array(points_initial)\n",
    "\n",
    "            x_direction = points[2] - points[1] \n",
    "            z_direction = points[4] - points[1]  \n",
    "            x_direction /= np.linalg.norm(x_direction)\n",
    "            z_direction /= np.linalg.norm(z_direction)\n",
    "            y_direction = np.cross(x_direction, z_direction)\n",
    "\n",
    "            R_wcs = np.column_stack((x_direction, y_direction, z_direction))\n",
    "            M = np.column_stack((R_wcs, points[1]))\n",
    "            M = np.row_stack((M, np.array([0, 0, 0, 1])))\n",
    "            M_inv = np.linalg.inv(M)\n",
    "\n",
    "            rotation_matrix = np.column_stack((x_direction, y_direction, z_direction))\n",
    "\n",
    "            R_initial = rotation_matrix.copy()\n",
    "\n",
    "            # plot_graph(points[:, 0], points[:, 1], points[:, 2], T1_initial, T2_initial, T3_initial, R1_initial, R2_initial, R3_initial, R_initial)\n",
    "            import plotly.graph_objects as go\n",
    "\n",
    "            x = points[:, 0]\n",
    "            y = points[:, 1]\n",
    "            z = points[:, 2]\n",
    "\n",
    "            def plot_vector(fig, start, direction, name, color):\n",
    "                end = start + direction\n",
    "                fig.add_trace(go.Scatter3d(x=[start[0], end[0]], y=[start[1], end[1]], z=[start[2], end[2]],\n",
    "                                        mode='lines+text', line=dict(color=color, width=5)))\n",
    "\n",
    "            # Create interactive 3D scatter plot\n",
    "            fig = go.Figure(data=[go.Scatter3d(x=x, y=y, z=z, mode='markers', marker=dict(size=8))])\n",
    "            fig.add_trace(go.Scatter3d(x=T1_initial[0], y=T1_initial[1], z=T1_initial[2], mode='markers', marker=dict(size=10, color='red'), name='1'))\n",
    "            fig.add_trace(go.Scatter3d(x=T2_initial[0], y=T2_initial[1], z=T2_initial[2], mode='markers', marker=dict(size=10, color='green'), name='2'))\n",
    "            fig.add_trace(go.Scatter3d(x=T3_initial[0], y=T3_initial[1], z=T3_initial[2], mode='markers', marker=dict(size=10, color='yellow'), name='3'))\n",
    "\n",
    "            colors = ['red', 'green', 'blue']  # Colors for the x, y, z axis directions\n",
    "            for i in range(3):\n",
    "                direction = R1_initial[:, i]*10\n",
    "                plot_vector(fig, T1_initial.flatten(), direction, f'I{i+1}', colors[i])\n",
    "            for i in range(3):\n",
    "                direction = R2_initial[:, i]*10\n",
    "                plot_vector(fig, T2_initial.flatten(), direction, f'R{i+1}', colors[i])\n",
    "            for i in range(3):\n",
    "                direction = R3_initial[:, i]*10\n",
    "                plot_vector(fig, T3_initial.flatten(), direction, f'R{i+1}', colors[i])\n",
    "            for i in range(3):\n",
    "                direction = R_initial[:, i]*10\n",
    "                plot_vector(fig, points[1], direction, f'I{i+1}', colors[i])\n",
    "\n",
    "            fig.update_layout(scene=dict(\n",
    "                                xaxis_title='X',\n",
    "                                yaxis_title='Y',\n",
    "                                zaxis_title='Z'),\n",
    "                            width=700,\n",
    "                            margin=dict(r=20, b=10, l=10, t=10))\n",
    "            fig.show()\n",
    "\n",
    "            def projectInternal(M, xyz):\n",
    "                xyz = np.array([[xyz[0], xyz[1], xyz[2], 1]], dtype=object).T\n",
    "                internal_xyz = M @ xyz\n",
    "                internal_xyz[:3].flatten()\n",
    "                internal_xyz = np.squeeze(internal_xyz)\n",
    "                internal_xyz =np.squeeze(internal_xyz)\n",
    "                return internal_xyz[:3]\n",
    "            \n",
    "            # calculate C1 internal 3D points\n",
    "            c1_wand = np.array([projectInternal(M, p) for p in wcs_wand])\n",
    "            c1_skel = np.array([projectInternal(M, p) for p in wcs_skel])\n",
    "            # floor_y = c1_skel[floor_idx][1]\n",
    "            # c1_skel[:,1] += np.abs(floor_y-(np.mean(points[:, 1])))\n",
    "            order = [1, 0, 2, 3, 4] \n",
    "            c1_wand = c1_wand[order, :]\n",
    "            diff = points - c1_wand\n",
    "            y_avg_wand = np.mean(c1_wand[:, 1])\n",
    "            y_avg_points = np.mean(points[:, 1])\n",
    "            # y_diff = np.abs(y_avg_points - y_avg_wand)\n",
    "            y_diff = y_avg_points - y_avg_wand\n",
    "            x_avg_wand = np.mean(c1_wand[:, 0])\n",
    "            x_avg_points = np.mean(points[:, 0])\n",
    "            # x_diff = np.abs(x_avg_points - x_avg_wand)\n",
    "            x_diff = x_avg_points - x_avg_wand\n",
    "            z_avg_wand = np.mean(c1_wand[:, 2])\n",
    "            z_avg_points = np.mean(points[:, 2])\n",
    "            # z_diff = np.abs(z_avg_points - z_avg_wand)\n",
    "            z_diff = z_avg_points - z_avg_wand\n",
    "            c1_wand[:, 1] += y_diff\n",
    "            c1_skel[:, 1] += y_diff\n",
    "            c1_wand[:, 0] += x_diff\n",
    "            c1_skel[:, 0] += x_diff\n",
    "            c1_wand[:, 2] += z_diff\n",
    "            c1_skel[:, 2] += z_diff\n",
    "\n",
    "            def projectPixel(cam_params, xyz):\n",
    "                K = cam_params['mtx']\n",
    "                a = np.array([[0, 0, 0]]).T\n",
    "                xyz = np.array([[xyz[0], xyz[1], xyz[2], 1]], dtype=object).T\n",
    "                M = np.hstack((K, a))\n",
    "                image_xy = M @ xyz\n",
    "                image_xy[:3].flatten()\n",
    "                image_xy /= image_xy[2]\n",
    "                image_xy = np.squeeze(image_xy)\n",
    "                return image_xy[0:2]\n",
    "\n",
    "            cam_params={}\n",
    "            cam_params['C2']={}\n",
    "            cam_params['C2']['R'] = R1_initial\n",
    "            cam_params['C2']['T'] = T1_initial\n",
    "            cam_params['C2']['mtx'] = cameraMatrix1\n",
    "\n",
    "            # calculate C1 pixel points\n",
    "            c1_pixel_points = np.array([projectPixel(cam_params['C2'], p) for p in points])\n",
    "            c1_pixel_skel = np.array([projectPixel(cam_params['C2'], p) for p in c1_skel])\n",
    "\n",
    "            data_dict = {\n",
    "                'point_ids': point_ids,\n",
    "                'xyz': c1_skel.tolist(),\n",
    "                'xy': c1_pixel_skel.tolist(),\n",
    "                'wand_xyz': points.tolist(),\n",
    "                'wand_xy': c1_pixel_points.tolist()                                            \n",
    "            }\n",
    "            print(f'Main: {main}')\n",
    "            fig = go.Figure(data=[go.Scatter3d(x=x, y=y, z=z, mode='markers', marker=dict(size=5))])\n",
    "            fig.add_trace(go.Scatter3d(x=T1_initial[0], y=T1_initial[1], z=T1_initial[2], mode='markers', marker=dict(size=10, color='red'), name='1'))\n",
    "            fig.add_trace(go.Scatter3d(x=T2_initial[0], y=T2_initial[1], z=T2_initial[2], mode='markers', marker=dict(size=10, color='green'), name='2'))\n",
    "            fig.add_trace(go.Scatter3d(x=T3_initial[0], y=T3_initial[1], z=T3_initial[2], mode='markers', marker=dict(size=10, color='yellow'), name='3'))\n",
    "            fig.add_trace(go.Scatter3d(x=c1_wand[:, 0], y=c1_wand[:, 1], z=c1_wand[:, 2], mode='markers', marker=dict(size=4, color='black'), name='wand'))\n",
    "            colors = ['red', 'green', 'blue']  # Colors for the x, y, z axis directions\n",
    "            for i in range(3):\n",
    "                direction = R1_initial[:, i]*10\n",
    "                plot_vector(fig, T1_initial.flatten(), direction, f'I{i+1}', colors[i])\n",
    "            for i in range(3):\n",
    "                direction = R2_initial[:, i]*10\n",
    "                plot_vector(fig, T2_initial.flatten(), direction, f'R{i+1}', colors[i])\n",
    "            for i in range(3):\n",
    "                direction = R3_initial[:, i]*10\n",
    "                plot_vector(fig, T3_initial.flatten(), direction, f'R{i+1}', colors[i])\n",
    "            for i in range(3):\n",
    "                direction = R_initial[:, i]*10\n",
    "                plot_vector(fig, points[1], direction, f'I{i+1}', colors[i])\n",
    "\n",
    "            fig.update_layout(scene=dict(\n",
    "                                xaxis_title='X',\n",
    "                                yaxis_title='Y',\n",
    "                                zaxis_title='Z'),\n",
    "                            width=700,\n",
    "                            margin=dict(r=20, b=10, l=10, t=10))\n",
    "            fig.show()\n",
    "\n",
    "            if main == 1:\n",
    "                c1_data.append(data_dict)\n",
    "            else:\n",
    "                c6_data.append(data_dict)\n",
    "\n",
    "            def projectInternal(cam_params, xyz):\n",
    "                R = cam_params['R']\n",
    "                t = cam_params['T']\n",
    "                a = np.array([[0, 0, 0]])\n",
    "                b = np.array([[1]])\n",
    "                xyz = np.array([[xyz[0], xyz[1], xyz[2], 1]], dtype=object).T\n",
    "                M = np.vstack((np.hstack((R, t)), np.hstack((a, b))))\n",
    "                internal_xyz = M @ xyz\n",
    "                internal_xyz[:3].flatten()\n",
    "                internal_xyz = np.squeeze(internal_xyz)\n",
    "                internal_xyz =np.squeeze(internal_xyz)\n",
    "                return internal_xyz[:3]\n",
    "                # return xyz\n",
    "                \n",
    "            cam_params={}\n",
    "            cam_params['C2']={}\n",
    "            cam_params['C2']['R'] = R2_initial\n",
    "            cam_params['C2']['T'] = T2_initial\n",
    "            cam_params['C2']['mtx'] = cameraMatrix2\n",
    "\n",
    "            # calculate C2 internal 3D points\n",
    "            c2_3d_points = np.array([projectInternal(cam_params['C2'], p) for p in points])\n",
    "            c2_3d_skel = np.array([projectInternal(cam_params['C2'], p) for p in c1_skel])   \n",
    "            \n",
    "            # calculate C2 pixel points\n",
    "            c2_pixel_points = np.array([projectPixel(cam_params['C2'], p) for p in c2_3d_points])\n",
    "            c2_pixel_skel = np.array([projectPixel(cam_params['C2'], p) for p in c2_3d_skel]) \n",
    "\n",
    "            data_dict = {\n",
    "                'point_ids': point_ids,\n",
    "                'xyz': c2_3d_skel.tolist(),\n",
    "                'xy': c2_pixel_skel.tolist(),\n",
    "                'wand_xyz': c2_3d_points.tolist(),\n",
    "                'wand_xy': c2_pixel_points.tolist()                                            \n",
    "            }\n",
    "\n",
    "            c2_3d_points = np.array(c2_3d_points, dtype=float)\n",
    "\n",
    "            x_direction = c2_3d_points[2] - c2_3d_points[1] \n",
    "            z_direction = c2_3d_points[4] - c2_3d_points[1]  \n",
    "            x_direction /= np.linalg.norm(x_direction)\n",
    "            z_direction /= np.linalg.norm(z_direction)\n",
    "            y_direction = np.cross(x_direction, z_direction)\n",
    "\n",
    "            R_temp = np.column_stack((x_direction, y_direction, z_direction))\n",
    "\n",
    "            x = c2_3d_points[:, 0]\n",
    "            y = c2_3d_points[:, 1]\n",
    "            z = c2_3d_points[:, 2]\n",
    "\n",
    "            T1_temp = np.array([projectInternal(cam_params['C2'], p) for p in T1_initial.T])\n",
    "            T2_temp = np.array([projectInternal(cam_params['C2'], p) for p in T2_initial.T])\n",
    "            T3_temp = np.array([projectInternal(cam_params['C2'], p) for p in T3_initial.T])\n",
    "            wand_temp = np.array([projectInternal(cam_params['C2'], p) for p in c1_wand])\n",
    "            print(f'Pair: {pairs[0]}')\n",
    "            fig = go.Figure(data=[go.Scatter3d(x=x, y=y, z=z, mode='markers', marker=dict(size=5))])\n",
    "            fig.add_trace(go.Scatter3d(x=T1_temp.T[0], y=T1_temp.T[1], z=T1_temp.T[2], mode='markers', marker=dict(size=10, color='red'), name='1'))\n",
    "            fig.add_trace(go.Scatter3d(x=T2_temp.T[0], y=T2_temp.T[1], z=T2_temp.T[2], mode='markers', marker=dict(size=10, color='green'), name='2'))\n",
    "            fig.add_trace(go.Scatter3d(x=T3_temp.T[0], y=T3_temp.T[1], z=T3_temp.T[2], mode='markers', marker=dict(size=10, color='yellow'), name='3'))\n",
    "            fig.add_trace(go.Scatter3d(x=wand_temp[:, 0], y=wand_temp[:, 1], z=wand_temp[:, 2], mode='markers', marker=dict(size=4, color='black'), name='wand'))\n",
    "            colors = ['red', 'green', 'blue']  # Colors for the x, y, z axis directions\n",
    "\n",
    "            for i in range(3):\n",
    "                direction = R_temp[:, i]*10\n",
    "                plot_vector(fig, c2_3d_points[1], direction, f'I{i+1}', colors[i])\n",
    "\n",
    "            fig.update_layout(scene=dict(\n",
    "                                xaxis_title='X',\n",
    "                                yaxis_title='Y',\n",
    "                                zaxis_title='Z'),\n",
    "                            width=700,\n",
    "                            margin=dict(r=20, b=10, l=10, t=10))\n",
    "            fig.show()\n",
    "        \n",
    "            if main == 1:\n",
    "                c2_data.append(data_dict)\n",
    "            else:\n",
    "                c4_data.append(data_dict)\n",
    "\n",
    "            cam_params={}\n",
    "            cam_params['C2']={}\n",
    "            cam_params['C2']['R'] = R3_initial\n",
    "            cam_params['C2']['T'] = T3_initial\n",
    "            cam_params['C2']['mtx'] = cameraMatrix3\n",
    "\n",
    "            # calculate C3 internal 3D points\n",
    "            c2_3d_points = np.array([projectInternal(cam_params['C2'], p) for p in points])\n",
    "            c2_3d_skel = np.array([projectInternal(cam_params['C2'], p) for p in c1_skel])  \n",
    "\n",
    "            # calculate C3 pixel points\n",
    "            c2_pixel_points = np.array([projectPixel(cam_params['C2'], p) for p in c2_3d_points])\n",
    "            c2_pixel_skel = np.array([projectPixel(cam_params['C2'], p) for p in c2_3d_skel])\n",
    "\n",
    "            data_dict = {\n",
    "                'point_ids': point_ids,\n",
    "                'xyz': c2_3d_skel.tolist(),\n",
    "                'xy': c2_pixel_skel.tolist(),\n",
    "                'wand_xyz': c2_3d_points.tolist(),\n",
    "                'wand_xy': c2_pixel_points.tolist()                                            \n",
    "            }\n",
    "\n",
    "            c2_3d_points = np.array(c2_3d_points, dtype=float)\n",
    "\n",
    "            x_direction = c2_3d_points[2] - c2_3d_points[1] \n",
    "            z_direction = c2_3d_points[4] - c2_3d_points[1]  \n",
    "            x_direction /= np.linalg.norm(x_direction)\n",
    "            z_direction /= np.linalg.norm(z_direction)\n",
    "            y_direction = np.cross(x_direction, z_direction)\n",
    "\n",
    "            R_temp = np.column_stack((x_direction, y_direction, z_direction))\n",
    "\n",
    "            x = c2_3d_points[:, 0]\n",
    "            y = c2_3d_points[:, 1]\n",
    "            z = c2_3d_points[:, 2]\n",
    "\n",
    "            T1_temp = np.array([projectInternal(cam_params['C2'], p) for p in T1_initial.T])\n",
    "            T2_temp = np.array([projectInternal(cam_params['C2'], p) for p in T2_initial.T])\n",
    "            T3_temp = np.array([projectInternal(cam_params['C2'], p) for p in T3_initial.T])\n",
    "            wand_temp = np.array([projectInternal(cam_params['C2'], p) for p in c1_wand])\n",
    "            print(f'Pair: {pairs[1]}')  \n",
    "            fig = go.Figure(data=[go.Scatter3d(x=x, y=y, z=z, mode='markers', marker=dict(size=5))])\n",
    "            fig.add_trace(go.Scatter3d(x=T1_temp.T[0], y=T1_temp.T[1], z=T1_temp.T[2], mode='markers', marker=dict(size=10, color='red'), name='1'))\n",
    "            fig.add_trace(go.Scatter3d(x=T2_temp.T[0], y=T2_temp.T[1], z=T2_temp.T[2], mode='markers', marker=dict(size=10, color='green'), name='2'))\n",
    "            fig.add_trace(go.Scatter3d(x=T3_temp.T[0], y=T3_temp.T[1], z=T3_temp.T[2], mode='markers', marker=dict(size=10, color='yellow'), name='3'))\n",
    "            fig.add_trace(go.Scatter3d(x=wand_temp[:, 0], y=wand_temp[:, 1], z=wand_temp[:, 2], mode='markers', marker=dict(size=4, color='black'), name='wand'))\n",
    "            colors = ['red', 'green', 'blue']  # Colors for the x, y, z axis directions\n",
    "\n",
    "            for i in range(3):\n",
    "                direction = R_temp[:, i]*10\n",
    "                plot_vector(fig, c2_3d_points[1], direction, f'I{i+1}', colors[i])\n",
    "\n",
    "            fig.update_layout(scene=dict(\n",
    "                                xaxis_title='X',\n",
    "                                yaxis_title='Y',\n",
    "                                zaxis_title='Z'),\n",
    "                            width=700,\n",
    "                            margin=dict(r=20, b=10, l=10, t=10))\n",
    "            fig.show()\n",
    "\n",
    "            if main == 1:\n",
    "                c3_data.append(data_dict)\n",
    "            else:\n",
    "                c5_data.append(data_dict)"
   ]
  },
  {
   "cell_type": "code",
   "execution_count": 32,
   "metadata": {},
   "outputs": [
    {
     "data": {
      "text/plain": [
       "{'S1': 'S1',\n",
       " 'S2': 'S1',\n",
       " 'S3': 'S1',\n",
       " 'S4': 'S1',\n",
       " 'S5': 'S1',\n",
       " 'S6': 'S6',\n",
       " 'S7': 'S6',\n",
       " 'S8': 'S6',\n",
       " 'S9': 'S6',\n",
       " 'S10': 'S6',\n",
       " 'S11': 'S11',\n",
       " 'S12': 'S11',\n",
       " 'S13': 'S11',\n",
       " 'S14': 'S11',\n",
       " 'S15': 'S11',\n",
       " 'S16': 'S11',\n",
       " 'S17': 'S17',\n",
       " 'S18': 'S17',\n",
       " 'S19': 'S17',\n",
       " 'S20': 'S17',\n",
       " 'S21': 'S17',\n",
       " 'S22': 'S17',\n",
       " 'S23': 'S23',\n",
       " 'S24': 'S23',\n",
       " 'S25': 'S23',\n",
       " 'S26': 'S23',\n",
       " 'S27': 'S23',\n",
       " 'S28': 'S23'}"
      ]
     },
     "execution_count": 32,
     "metadata": {},
     "output_type": "execute_result"
    }
   ],
   "source": [
    "df_intrinsic = pd.read_csv(f'{root_path}calibration/internal/csvs/internal_calibration_best.csv')\n",
    "matrix_subjects = df_intrinsic['subject'].unique().tolist()\n",
    "matrix_subjects = sorted(matrix_subjects)\n",
    "map_matrix = {}\n",
    "cur_num = 1\n",
    "for i in range(1,29):\n",
    "    if i in matrix_subjects:\n",
    "        cur_num = i\n",
    "    map_matrix[f'S{i}'] = f'S{cur_num}'\n",
    "map_nums = map_matrix\n",
    "map_nums"
   ]
  }
 ],
 "metadata": {
  "kernelspec": {
   "display_name": "venv",
   "language": "python",
   "name": "python3"
  },
  "language_info": {
   "codemirror_mode": {
    "name": "ipython",
    "version": 3
   },
   "file_extension": ".py",
   "mimetype": "text/x-python",
   "name": "python",
   "nbconvert_exporter": "python",
   "pygments_lexer": "ipython3",
   "version": "3.10.12"
  }
 },
 "nbformat": 4,
 "nbformat_minor": 2
}
