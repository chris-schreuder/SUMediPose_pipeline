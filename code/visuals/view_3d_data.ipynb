{
 "cells": [
  {
   "cell_type": "code",
   "execution_count": 20,
   "metadata": {},
   "outputs": [
    {
     "data": {
      "text/plain": [
       "'3d_point_cloud_with_labels.html'"
      ]
     },
     "execution_count": 20,
     "metadata": {},
     "output_type": "execute_result"
    }
   ],
   "source": [
    "import json\n",
    "import numpy as np\n",
    "import plotly.graph_objs as go\n",
    "import plotly.offline as pyo\n",
    "\n",
    "root_path = 'path/to/your/data/'\n",
    "\n",
    "# Load the data from the JSON file\n",
    "path = f'{root_path}WCS/S2/S2A1D1.json'\n",
    "# path = '3d_data/S1/S1A1D2.json'\n",
    "\n",
    "with open(path, 'r') as f:\n",
    "    data = json.load(f)\n",
    "\n",
    "# Extract data from the specified frame\n",
    "frame = data[1116]\n",
    "point_ids = frame['point_ids']\n",
    "xyz = frame['xyz']\n",
    "xyz = np.array(xyz)\n",
    "\n",
    "# Create a 3D scatter plot with labels\n",
    "trace = go.Scatter3d(\n",
    "    x=xyz[:, 0],\n",
    "    y=xyz[:, 1],\n",
    "    z=xyz[:, 2],\n",
    "    mode='markers+text',\n",
    "    marker=dict(\n",
    "        size=2,\n",
    "        color='rgb(255,0,0)',\n",
    "    ),\n",
    "    text=point_ids,  # Add the labels\n",
    "    textposition='top center',  # Position the text labels\n",
    "    textfont=dict(\n",
    "        size=10,\n",
    "        color='rgb(0,0,0)'\n",
    "    )\n",
    ")\n",
    "\n",
    "# Define the layout\n",
    "layout = go.Layout(\n",
    "    scene=dict(\n",
    "        xaxis=dict(title='X', range=[-1000, 1000]),\n",
    "        yaxis=dict(title='Y', range=[-100, 1700]),\n",
    "        zaxis=dict(title='Z', range=[-1000, 1000]),\n",
    "    )\n",
    ")\n",
    "\n",
    "# Create the figure and plot it\n",
    "fig = go.Figure(data=[trace], layout=layout)\n",
    "pyo.plot(fig, filename='3d_point_cloud_with_labels.html')\n",
    "\n",
    "\n"
   ]
  }
 ],
 "metadata": {
  "kernelspec": {
   "display_name": "venv",
   "language": "python",
   "name": "python3"
  },
  "language_info": {
   "codemirror_mode": {
    "name": "ipython",
    "version": 3
   },
   "file_extension": ".py",
   "mimetype": "text/x-python",
   "name": "python",
   "nbconvert_exporter": "python",
   "pygments_lexer": "ipython3",
   "version": "3.10.12"
  }
 },
 "nbformat": 4,
 "nbformat_minor": 2
}
