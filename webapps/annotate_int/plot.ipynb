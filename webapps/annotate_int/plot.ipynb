{
 "cells": [
  {
   "cell_type": "code",
   "execution_count": 1,
   "metadata": {},
   "outputs": [],
   "source": [
    "import json\n",
    "import cv2\n",
    "\n",
    "with open('markers_init.json', 'r') as f:\n",
    "    markers_dict = json.load(f)\n",
    "new_dict = {}\n",
    "for file, points in markers_dict.items():\n",
    "    img_path = f'static/img/{file}'\n",
    "    save_to_path = img_path.replace('img', 'img_plot')\n",
    "    img = cv2.imread(img_path)\n",
    "    new_ids = []\n",
    "    for i, point in enumerate(points):\n",
    "        new_ids.append('')\n",
    "        cv2.circle(img, (point[0], point[1]), 5, (0, 255, 0), -1)\n",
    "        cv2.putText(img, str(i), (point[0], point[1]), cv2.FONT_HERSHEY_SIMPLEX, 1, (0, 0, 255), 2)\n",
    "    cv2.imwrite(save_to_path, img)\n",
    "    new_dict[file] = new_ids\n",
    "with open('markers_ids.json', 'w') as f:\n",
    "    json.dump(new_dict, f, indent=4)\n"
   ]
  }
 ],
 "metadata": {
  "kernelspec": {
   "display_name": "venv",
   "language": "python",
   "name": "python3"
  },
  "language_info": {
   "codemirror_mode": {
    "name": "ipython",
    "version": 3
   },
   "file_extension": ".py",
   "mimetype": "text/x-python",
   "name": "python",
   "nbconvert_exporter": "python",
   "pygments_lexer": "ipython3",
   "version": "3.10.12"
  }
 },
 "nbformat": 4,
 "nbformat_minor": 2
}
